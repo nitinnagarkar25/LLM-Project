{
  "cells": [
    {
      "cell_type": "markdown",
      "metadata": {
        "colab_type": "text",
        "id": "view-in-github"
      },
      "source": [
        "<a href=\"https://colab.research.google.com/github/meesamamir/LLM-Project/blob/main/LLM_Project.ipynb\" target=\"_parent\"><img src=\"https://colab.research.google.com/assets/colab-badge.svg\" alt=\"Open In Colab\"/></a>"
      ]
    },
    {
      "cell_type": "markdown",
      "metadata": {
        "id": "dXgvxpheMeSc"
      },
      "source": [
        "# News Multi-Classification using NLP Techniques\n",
        "\n",
        "This project implements a comprehensive news classification system using NLP techniques. We will use the AG News dataset, which contains news headlines labeled as follows:\n",
        "\n",
        "0: World\n",
        "\n",
        "1: Sports\n",
        "\n",
        "2: Business\n",
        "\n",
        "3: Sci/Tech\n",
        "\n",
        "The goal is to first build a baseline classifier using logistic regression and then develop a neural network classifier for comparison.\n",
        "\n",
        "Below, we describe each step and provide detailed comments."
      ]
    },
    {
      "cell_type": "code",
      "execution_count": null,
      "metadata": {
        "colab": {
          "base_uri": "https://localhost:8080/"
        },
        "collapsed": true,
        "id": "jSan62rTVoAd",
        "outputId": "333efc46-dd88-467b-ea48-3be8beddb346"
      },
      "outputs": [
        {
          "name": "stdout",
          "output_type": "stream",
          "text": [
            "Collecting datasets\n",
            "  Downloading datasets-3.5.0-py3-none-any.whl.metadata (19 kB)\n",
            "Requirement already satisfied: filelock in /usr/local/lib/python3.11/dist-packages (from datasets) (3.18.0)\n",
            "Requirement already satisfied: numpy>=1.17 in /usr/local/lib/python3.11/dist-packages (from datasets) (2.0.2)\n",
            "Requirement already satisfied: pyarrow>=15.0.0 in /usr/local/lib/python3.11/dist-packages (from datasets) (19.0.1)\n",
            "Collecting dill<0.3.9,>=0.3.0 (from datasets)\n",
            "  Downloading dill-0.3.8-py3-none-any.whl.metadata (10 kB)\n",
            "Requirement already satisfied: pandas in /usr/local/lib/python3.11/dist-packages (from datasets) (2.2.2)\n",
            "Requirement already satisfied: requests>=2.32.2 in /usr/local/lib/python3.11/dist-packages (from datasets) (2.32.3)\n",
            "Requirement already satisfied: tqdm>=4.66.3 in /usr/local/lib/python3.11/dist-packages (from datasets) (4.67.1)\n",
            "Collecting xxhash (from datasets)\n",
            "  Downloading xxhash-3.5.0-cp311-cp311-manylinux_2_17_x86_64.manylinux2014_x86_64.whl.metadata (12 kB)\n",
            "Collecting multiprocess<0.70.17 (from datasets)\n",
            "  Downloading multiprocess-0.70.16-py311-none-any.whl.metadata (7.2 kB)\n",
            "Collecting fsspec<=2024.12.0,>=2023.1.0 (from fsspec[http]<=2024.12.0,>=2023.1.0->datasets)\n",
            "  Downloading fsspec-2024.12.0-py3-none-any.whl.metadata (11 kB)\n",
            "Requirement already satisfied: aiohttp in /usr/local/lib/python3.11/dist-packages (from datasets) (3.11.15)\n",
            "Requirement already satisfied: huggingface-hub>=0.24.0 in /usr/local/lib/python3.11/dist-packages (from datasets) (0.30.1)\n",
            "Requirement already satisfied: packaging in /usr/local/lib/python3.11/dist-packages (from datasets) (24.2)\n",
            "Requirement already satisfied: pyyaml>=5.1 in /usr/local/lib/python3.11/dist-packages (from datasets) (6.0.2)\n",
            "Requirement already satisfied: aiohappyeyeballs>=2.3.0 in /usr/local/lib/python3.11/dist-packages (from aiohttp->datasets) (2.6.1)\n",
            "Requirement already satisfied: aiosignal>=1.1.2 in /usr/local/lib/python3.11/dist-packages (from aiohttp->datasets) (1.3.2)\n",
            "Requirement already satisfied: attrs>=17.3.0 in /usr/local/lib/python3.11/dist-packages (from aiohttp->datasets) (25.3.0)\n",
            "Requirement already satisfied: frozenlist>=1.1.1 in /usr/local/lib/python3.11/dist-packages (from aiohttp->datasets) (1.5.0)\n",
            "Requirement already satisfied: multidict<7.0,>=4.5 in /usr/local/lib/python3.11/dist-packages (from aiohttp->datasets) (6.3.1)\n",
            "Requirement already satisfied: propcache>=0.2.0 in /usr/local/lib/python3.11/dist-packages (from aiohttp->datasets) (0.3.1)\n",
            "Requirement already satisfied: yarl<2.0,>=1.17.0 in /usr/local/lib/python3.11/dist-packages (from aiohttp->datasets) (1.18.3)\n",
            "Requirement already satisfied: typing-extensions>=3.7.4.3 in /usr/local/lib/python3.11/dist-packages (from huggingface-hub>=0.24.0->datasets) (4.13.0)\n",
            "Requirement already satisfied: charset-normalizer<4,>=2 in /usr/local/lib/python3.11/dist-packages (from requests>=2.32.2->datasets) (3.4.1)\n",
            "Requirement already satisfied: idna<4,>=2.5 in /usr/local/lib/python3.11/dist-packages (from requests>=2.32.2->datasets) (3.10)\n",
            "Requirement already satisfied: urllib3<3,>=1.21.1 in /usr/local/lib/python3.11/dist-packages (from requests>=2.32.2->datasets) (2.3.0)\n",
            "Requirement already satisfied: certifi>=2017.4.17 in /usr/local/lib/python3.11/dist-packages (from requests>=2.32.2->datasets) (2025.1.31)\n",
            "Requirement already satisfied: python-dateutil>=2.8.2 in /usr/local/lib/python3.11/dist-packages (from pandas->datasets) (2.9.0.post0)\n",
            "Requirement already satisfied: pytz>=2020.1 in /usr/local/lib/python3.11/dist-packages (from pandas->datasets) (2025.2)\n",
            "Requirement already satisfied: tzdata>=2022.7 in /usr/local/lib/python3.11/dist-packages (from pandas->datasets) (2025.2)\n",
            "Requirement already satisfied: six>=1.5 in /usr/local/lib/python3.11/dist-packages (from python-dateutil>=2.8.2->pandas->datasets) (1.17.0)\n",
            "Downloading datasets-3.5.0-py3-none-any.whl (491 kB)\n",
            "\u001b[2K   \u001b[90m━━━━━━━━━━━━━━━━━━━━━━━━━━━━━━━━━━━━━━━━\u001b[0m \u001b[32m491.2/491.2 kB\u001b[0m \u001b[31m7.9 MB/s\u001b[0m eta \u001b[36m0:00:00\u001b[0m\n",
            "\u001b[?25hDownloading dill-0.3.8-py3-none-any.whl (116 kB)\n",
            "\u001b[2K   \u001b[90m━━━━━━━━━━━━━━━━━━━━━━━━━━━━━━━━━━━━━━━━\u001b[0m \u001b[32m116.3/116.3 kB\u001b[0m \u001b[31m6.9 MB/s\u001b[0m eta \u001b[36m0:00:00\u001b[0m\n",
            "\u001b[?25hDownloading fsspec-2024.12.0-py3-none-any.whl (183 kB)\n",
            "\u001b[2K   \u001b[90m━━━━━━━━━━━━━━━━━━━━━━━━━━━━━━━━━━━━━━━━\u001b[0m \u001b[32m183.9/183.9 kB\u001b[0m \u001b[31m8.5 MB/s\u001b[0m eta \u001b[36m0:00:00\u001b[0m\n",
            "\u001b[?25hDownloading multiprocess-0.70.16-py311-none-any.whl (143 kB)\n",
            "\u001b[2K   \u001b[90m━━━━━━━━━━━━━━━━━━━━━━━━━━━━━━━━━━━━━━━━\u001b[0m \u001b[32m143.5/143.5 kB\u001b[0m \u001b[31m10.0 MB/s\u001b[0m eta \u001b[36m0:00:00\u001b[0m\n",
            "\u001b[?25hDownloading xxhash-3.5.0-cp311-cp311-manylinux_2_17_x86_64.manylinux2014_x86_64.whl (194 kB)\n",
            "\u001b[2K   \u001b[90m━━━━━━━━━━━━━━━━━━━━━━━━━━━━━━━━━━━━━━━━\u001b[0m \u001b[32m194.8/194.8 kB\u001b[0m \u001b[31m12.6 MB/s\u001b[0m eta \u001b[36m0:00:00\u001b[0m\n",
            "\u001b[?25hInstalling collected packages: xxhash, fsspec, dill, multiprocess, datasets\n",
            "  Attempting uninstall: fsspec\n",
            "    Found existing installation: fsspec 2025.3.2\n",
            "    Uninstalling fsspec-2025.3.2:\n",
            "      Successfully uninstalled fsspec-2025.3.2\n",
            "Successfully installed datasets-3.5.0 dill-0.3.8 fsspec-2024.12.0 multiprocess-0.70.16 xxhash-3.5.0\n",
            "Collecting gensim\n",
            "  Downloading gensim-4.3.3-cp311-cp311-manylinux_2_17_x86_64.manylinux2014_x86_64.whl.metadata (8.1 kB)\n",
            "Collecting numpy<2.0,>=1.18.5 (from gensim)\n",
            "  Downloading numpy-1.26.4-cp311-cp311-manylinux_2_17_x86_64.manylinux2014_x86_64.whl.metadata (61 kB)\n",
            "\u001b[2K     \u001b[90m━━━━━━━━━━━━━━━━━━━━━━━━━━━━━━━━━━━━━━━━\u001b[0m \u001b[32m61.0/61.0 kB\u001b[0m \u001b[31m1.5 MB/s\u001b[0m eta \u001b[36m0:00:00\u001b[0m\n",
            "\u001b[?25hCollecting scipy<1.14.0,>=1.7.0 (from gensim)\n",
            "  Downloading scipy-1.13.1-cp311-cp311-manylinux_2_17_x86_64.manylinux2014_x86_64.whl.metadata (60 kB)\n",
            "\u001b[2K     \u001b[90m━━━━━━━━━━━━━━━━━━━━━━━━━━━━━━━━━━━━━━━━\u001b[0m \u001b[32m60.6/60.6 kB\u001b[0m \u001b[31m2.5 MB/s\u001b[0m eta \u001b[36m0:00:00\u001b[0m\n",
            "\u001b[?25hRequirement already satisfied: smart-open>=1.8.1 in /usr/local/lib/python3.11/dist-packages (from gensim) (7.1.0)\n",
            "Requirement already satisfied: wrapt in /usr/local/lib/python3.11/dist-packages (from smart-open>=1.8.1->gensim) (1.17.2)\n",
            "Downloading gensim-4.3.3-cp311-cp311-manylinux_2_17_x86_64.manylinux2014_x86_64.whl (26.7 MB)\n",
            "\u001b[2K   \u001b[90m━━━━━━━━━━━━━━━━━━━━━━━━━━━━━━━━━━━━━━━━\u001b[0m \u001b[32m26.7/26.7 MB\u001b[0m \u001b[31m56.7 MB/s\u001b[0m eta \u001b[36m0:00:00\u001b[0m\n",
            "\u001b[?25hDownloading numpy-1.26.4-cp311-cp311-manylinux_2_17_x86_64.manylinux2014_x86_64.whl (18.3 MB)\n",
            "\u001b[2K   \u001b[90m━━━━━━━━━━━━━━━━━━━━━━━━━━━━━━━━━━━━━━━━\u001b[0m \u001b[32m18.3/18.3 MB\u001b[0m \u001b[31m56.0 MB/s\u001b[0m eta \u001b[36m0:00:00\u001b[0m\n",
            "\u001b[?25hDownloading scipy-1.13.1-cp311-cp311-manylinux_2_17_x86_64.manylinux2014_x86_64.whl (38.6 MB)\n",
            "\u001b[2K   \u001b[90m━━━━━━━━━━━━━━━━━━━━━━━━━━━━━━━━━━━━━━━━\u001b[0m \u001b[32m38.6/38.6 MB\u001b[0m \u001b[31m33.4 MB/s\u001b[0m eta \u001b[36m0:00:00\u001b[0m\n",
            "\u001b[?25hInstalling collected packages: numpy, scipy, gensim\n",
            "  Attempting uninstall: numpy\n",
            "    Found existing installation: numpy 2.0.2\n",
            "    Uninstalling numpy-2.0.2:\n",
            "      Successfully uninstalled numpy-2.0.2\n",
            "  Attempting uninstall: scipy\n",
            "    Found existing installation: scipy 1.14.1\n",
            "    Uninstalling scipy-1.14.1:\n",
            "      Successfully uninstalled scipy-1.14.1\n",
            "Successfully installed gensim-4.3.3 numpy-1.26.4 scipy-1.13.1\n",
            "Requirement already satisfied: seaborn in /usr/local/lib/python3.11/dist-packages (0.13.2)\n",
            "Requirement already satisfied: numpy!=1.24.0,>=1.20 in /usr/local/lib/python3.11/dist-packages (from seaborn) (1.26.4)\n",
            "Requirement already satisfied: pandas>=1.2 in /usr/local/lib/python3.11/dist-packages (from seaborn) (2.2.2)\n",
            "Requirement already satisfied: matplotlib!=3.6.1,>=3.4 in /usr/local/lib/python3.11/dist-packages (from seaborn) (3.10.0)\n",
            "Requirement already satisfied: contourpy>=1.0.1 in /usr/local/lib/python3.11/dist-packages (from matplotlib!=3.6.1,>=3.4->seaborn) (1.3.1)\n",
            "Requirement already satisfied: cycler>=0.10 in /usr/local/lib/python3.11/dist-packages (from matplotlib!=3.6.1,>=3.4->seaborn) (0.12.1)\n",
            "Requirement already satisfied: fonttools>=4.22.0 in /usr/local/lib/python3.11/dist-packages (from matplotlib!=3.6.1,>=3.4->seaborn) (4.56.0)\n",
            "Requirement already satisfied: kiwisolver>=1.3.1 in /usr/local/lib/python3.11/dist-packages (from matplotlib!=3.6.1,>=3.4->seaborn) (1.4.8)\n",
            "Requirement already satisfied: packaging>=20.0 in /usr/local/lib/python3.11/dist-packages (from matplotlib!=3.6.1,>=3.4->seaborn) (24.2)\n",
            "Requirement already satisfied: pillow>=8 in /usr/local/lib/python3.11/dist-packages (from matplotlib!=3.6.1,>=3.4->seaborn) (11.1.0)\n",
            "Requirement already satisfied: pyparsing>=2.3.1 in /usr/local/lib/python3.11/dist-packages (from matplotlib!=3.6.1,>=3.4->seaborn) (3.2.3)\n",
            "Requirement already satisfied: python-dateutil>=2.7 in /usr/local/lib/python3.11/dist-packages (from matplotlib!=3.6.1,>=3.4->seaborn) (2.9.0.post0)\n",
            "Requirement already satisfied: pytz>=2020.1 in /usr/local/lib/python3.11/dist-packages (from pandas>=1.2->seaborn) (2025.2)\n",
            "Requirement already satisfied: tzdata>=2022.7 in /usr/local/lib/python3.11/dist-packages (from pandas>=1.2->seaborn) (2025.2)\n",
            "Requirement already satisfied: six>=1.5 in /usr/local/lib/python3.11/dist-packages (from python-dateutil>=2.7->matplotlib!=3.6.1,>=3.4->seaborn) (1.17.0)\n",
            "Requirement already satisfied: numpy==1.26.4 in /usr/local/lib/python3.11/dist-packages (1.26.4)\n"
          ]
        }
      ],
      "source": [
        "!pip install datasets\n",
        "!pip install gensim\n",
        "!pip install seaborn\n",
        "\n",
        "!pip install numpy==1.26.4\n",
        "\n",
        "# https://stackoverflow.com/questions/78650222/valueerror-numpy-dtype-size-changed-may-indicate-binary-incompatibility-expec"
      ]
    },
    {
      "cell_type": "code",
      "execution_count": null,
      "metadata": {
        "id": "Kol4oFRKNBDD"
      },
      "outputs": [],
      "source": [
        "import numpy as np\n",
        "import pandas as pd\n",
        "\n",
        "from datasets import load_dataset\n",
        "from collections import Counter\n",
        "import matplotlib.pyplot as plt\n",
        "import seaborn as sns\n",
        "\n",
        "from sklearn.feature_extraction.text import CountVectorizer\n",
        "from sklearn.linear_model import LogisticRegression\n",
        "from sklearn.metrics import accuracy_score, classification_report, confusion_matrix\n",
        "\n",
        "import random\n",
        "np.random.seed(42)"
      ]
    },
    {
      "cell_type": "markdown",
      "metadata": {
        "id": "rEKSJJQsNHi4"
      },
      "source": [
        "# 1 - Data Prep"
      ]
    },
    {
      "cell_type": "markdown",
      "metadata": {
        "id": "_-AP23v0Np60"
      },
      "source": [
        "## 1.1 - Data Preprocessing\n",
        "We load the AG News dataset using the Huggingface datasets library. Then, we preprocess the text headlines by converting to lowercase and using CountVectorizer to convert the text into bag-of-words features. We will later report the vocabulary size and the shape of our data matrices.\n",
        "\n",
        "TODO: Find ways to fix any training imbalances in data labels"
      ]
    },
    {
      "cell_type": "markdown",
      "metadata": {
        "id": "Fb_YwkJAOKzM"
      },
      "source": [
        "## 1.2 - Load the AG News dataset"
      ]
    },
    {
      "cell_type": "code",
      "execution_count": null,
      "metadata": {
        "colab": {
          "base_uri": "https://localhost:8080/",
          "height": 301,
          "referenced_widgets": [
            "bc999799a6e94a569b88d321a60c9dfb",
            "5cfae512d0614bf89e73dfe6f1be01d8",
            "37229360ddec46fb95f2ead82f1847be",
            "905dbe1b40054cddaddbe1e4a8828fb8",
            "b13b5f3b69504ad8902f767049f37a23",
            "cd0736bb1e8341598a35b93c05b8c787",
            "a49fab5e2cb74b45802c70123348848f",
            "516b02a91e344da7badd2d97c9783ec8",
            "910bba600faf4050b3bf21e0dacf794d",
            "d3eccfc2d7fe4ecb97c67c2369014e1d",
            "ecdc81bb1b334f65a761117942dbe954",
            "9737cfdb06364516b18178102c1923ab",
            "2225ef16a4a14b0191eb0601f3a82004",
            "f9a5f08a51c144ea89701d38e88eaff6",
            "2d0e8dbe3e2242d3bb2247eb9ebf7071",
            "f9a46a8130e8403ea73490d24f956e56",
            "6b837eaca2194c75858e180b06af2bf7",
            "a3ff16aa947948589ba633cc8ff06ffc",
            "905c7fffc32940228bd0d7c0e7c59d10",
            "addefd73034d48e383db0f1b06d0e52d",
            "3ea8365b02ea43d2b492330cff50120b",
            "1c80424a2412466a9d74639cdd1134c9",
            "02d59d71297d4f088443d66c0ef33316",
            "a3783344baea41578a8c38d5ed69bf5b",
            "44020f9d135c47388539084b5fb7a52e",
            "7c5cd5c860b245fb9150ff43345a4a0d",
            "aa1937ebccc74625a3050003a8c6d4e0",
            "982814bcaa4245edad37a09049694dfe",
            "ba1b8781f0f64e159d73df1a701f2e76",
            "d174e11ba73f48789c684f1710e689b3",
            "7cd38082258747148fb47c83291d70a4",
            "afa8e4d56bb44927a06275bab5dd5a4d",
            "eee29f6832de43a1a284310dc8e6732b",
            "f5516da0995c4cad9af91f46a3048056",
            "cbb614aa296e4311b450241138592c97",
            "0e8c28337a7146f280ec42a8994931ba",
            "0663dc9506804f5aa8aa296386df27b7",
            "b8954d44cc7e4a4e96f98b128eedde80",
            "4b6b737b7f674a91975e79d3168e8f22",
            "923b5ac9c7704933b67629f338efd4cd",
            "1588444f33f24786905108212d3659b2",
            "98ec2955864b40cdaae17eff48edc050",
            "66096d3638ff4518b1fa52029e85d38a",
            "a879d937e79e46358a82b3567a7af820",
            "e902f54158e748fd90d8a008f60442a8",
            "f3b08a06263b49d7a7fa78de164a6906",
            "1450785ff5f74ed4ba1de3fc15cf85e5",
            "deb5286850aa4bb8a7ece2a81a9894e8",
            "5bde9be56f784631a05df0b899ca7016",
            "1dd871d5082949f3ac88f4f673a27682",
            "d61a176cf89c466b9189a8f5c4311fe6",
            "27d7fbc04bd9400292ba4fdc59dadf5f",
            "e064dc547e494f3b9decf1187b99d96b",
            "67d46ad7a3ab4ea3b1106c6c0a2a8276",
            "98186e118d8b4571ad425c97e12f4a85"
          ]
        },
        "id": "-MJfRMZzO1sc",
        "outputId": "e9bdb3a3-aaaa-4901-bb81-fbac6e39c740"
      },
      "outputs": [
        {
          "name": "stderr",
          "output_type": "stream",
          "text": [
            "/usr/local/lib/python3.11/dist-packages/huggingface_hub/utils/_auth.py:94: UserWarning: \n",
            "The secret `HF_TOKEN` does not exist in your Colab secrets.\n",
            "To authenticate with the Hugging Face Hub, create a token in your settings tab (https://huggingface.co/settings/tokens), set it as secret in your Google Colab and restart your session.\n",
            "You will be able to reuse this secret in all of your notebooks.\n",
            "Please note that authentication is recommended but still optional to access public models or datasets.\n",
            "  warnings.warn(\n"
          ]
        },
        {
          "data": {
            "application/vnd.jupyter.widget-view+json": {
              "model_id": "bc999799a6e94a569b88d321a60c9dfb",
              "version_major": 2,
              "version_minor": 0
            },
            "text/plain": [
              "README.md:   0%|          | 0.00/8.07k [00:00<?, ?B/s]"
            ]
          },
          "metadata": {},
          "output_type": "display_data"
        },
        {
          "data": {
            "application/vnd.jupyter.widget-view+json": {
              "model_id": "9737cfdb06364516b18178102c1923ab",
              "version_major": 2,
              "version_minor": 0
            },
            "text/plain": [
              "train-00000-of-00001.parquet:   0%|          | 0.00/18.6M [00:00<?, ?B/s]"
            ]
          },
          "metadata": {},
          "output_type": "display_data"
        },
        {
          "data": {
            "application/vnd.jupyter.widget-view+json": {
              "model_id": "02d59d71297d4f088443d66c0ef33316",
              "version_major": 2,
              "version_minor": 0
            },
            "text/plain": [
              "test-00000-of-00001.parquet:   0%|          | 0.00/1.23M [00:00<?, ?B/s]"
            ]
          },
          "metadata": {},
          "output_type": "display_data"
        },
        {
          "data": {
            "application/vnd.jupyter.widget-view+json": {
              "model_id": "f5516da0995c4cad9af91f46a3048056",
              "version_major": 2,
              "version_minor": 0
            },
            "text/plain": [
              "Generating train split:   0%|          | 0/120000 [00:00<?, ? examples/s]"
            ]
          },
          "metadata": {},
          "output_type": "display_data"
        },
        {
          "data": {
            "application/vnd.jupyter.widget-view+json": {
              "model_id": "e902f54158e748fd90d8a008f60442a8",
              "version_major": 2,
              "version_minor": 0
            },
            "text/plain": [
              "Generating test split:   0%|          | 0/7600 [00:00<?, ? examples/s]"
            ]
          },
          "metadata": {},
          "output_type": "display_data"
        }
      ],
      "source": [
        "# The default split provides train and test\n",
        "\n",
        "from datasets import load_dataset\n",
        "\n",
        "dataset = load_dataset(\"fancyzhx/ag_news\")"
      ]
    },
    {
      "cell_type": "code",
      "execution_count": null,
      "metadata": {
        "colab": {
          "base_uri": "https://localhost:8080/"
        },
        "id": "mJNiTgTPyN_o",
        "outputId": "b17388a5-97de-4653-de90-08f86e174aa2"
      },
      "outputs": [
        {
          "name": "stdout",
          "output_type": "stream",
          "text": [
            "Training Set Label Counts: Counter({2: 30000, 3: 30000, 1: 30000, 0: 30000})\n",
            "Testing Set Label Counts: Counter({2: 1900, 3: 1900, 1: 1900, 0: 1900})\n"
          ]
        }
      ],
      "source": [
        "import pandas as pd\n",
        "from collections import Counter\n",
        "from datasets import load_dataset\n",
        "\n",
        "# Convert dataset to pandas DataFrame\n",
        "df_train = pd.DataFrame(dataset['train'])\n",
        "df_test = pd.DataFrame(dataset['test'])\n",
        "\n",
        "# Count labels in training and test sets\n",
        "train_counts = Counter(df_train['label'])\n",
        "test_counts = Counter(df_test['label'])\n",
        "\n",
        "# Print label distribution\n",
        "print(\"Training Set Label Counts:\", train_counts)\n",
        "print(\"Testing Set Label Counts:\", test_counts)"
      ]
    },
    {
      "cell_type": "markdown",
      "metadata": {
        "id": "22V6tbSSPUP3"
      },
      "source": [
        "## 1.3 - Extract training and test texts and labels"
      ]
    },
    {
      "cell_type": "code",
      "execution_count": null,
      "metadata": {
        "colab": {
          "base_uri": "https://localhost:8080/"
        },
        "id": "uYpDJMCEPZEr",
        "outputId": "9d363b32-d04f-4efb-cf52-7a4c5bd6c46e"
      },
      "outputs": [
        {
          "name": "stdout",
          "output_type": "stream",
          "text": [
            "Number of training examples (full): 120000\n",
            "Number of test examples: 7600\n"
          ]
        }
      ],
      "source": [
        "# For convenience, extract training and test texts and labels\n",
        "\n",
        "train_texts = [example[\"text\"] for example in dataset[\"train\"]]\n",
        "train_labels = [example[\"label\"] for example in dataset[\"train\"]]\n",
        "\n",
        "test_texts = [example[\"text\"] for example in dataset[\"test\"]]\n",
        "test_labels = [example[\"label\"] for example in dataset[\"test\"]]\n",
        "\n",
        "print(f\"Number of training examples (full): {len(train_texts)}\")\n",
        "print(f\"Number of test examples: {len(test_texts)}\")"
      ]
    },
    {
      "cell_type": "markdown",
      "metadata": {
        "id": "PbZt67Elolrx"
      },
      "source": [
        "## 1.4 - Add slicing of training data\n",
        "\n",
        "Comment out the following code block to use full 120k rows for training data"
      ]
    },
    {
      "cell_type": "code",
      "execution_count": null,
      "metadata": {
        "colab": {
          "base_uri": "https://localhost:8080/"
        },
        "id": "MLA9aH1FpBeN",
        "outputId": "ed51f7e3-9714-423f-8bfd-86b2e1a7225a"
      },
      "outputs": [
        {
          "name": "stdout",
          "output_type": "stream",
          "text": [
            "Using 30000 training examples for experiments.\n"
          ]
        }
      ],
      "source": [
        "import random\n",
        "random.seed(42)\n",
        "\n",
        "indices = list(range(len(train_texts)))\n",
        "random.shuffle(indices)\n",
        "\n",
        "slice_indices = indices[:30000]  # Select 30k rows (approx. 25%)\n",
        "\n",
        "# slice_indices = indices[:120000]  # Select 120k rows\n",
        "\n",
        "train_texts = [train_texts[i] for i in slice_indices]\n",
        "train_labels = [train_labels[i] for i in slice_indices]\n",
        "\n",
        "print(f\"Using {len(train_texts)} training examples for experiments.\")"
      ]
    },
    {
      "cell_type": "markdown",
      "metadata": {
        "id": "d5J_hwoLhnYJ"
      },
      "source": [
        "## 1.5 - Display a snapshot of the data (first 5 rows)"
      ]
    },
    {
      "cell_type": "code",
      "execution_count": null,
      "metadata": {
        "colab": {
          "base_uri": "https://localhost:8080/"
        },
        "id": "t3Ze5Sfghs2z",
        "outputId": "4ea45c13-fd83-4f46-caa7-8ca3897e0772"
      },
      "outputs": [
        {
          "name": "stdout",
          "output_type": "stream",
          "text": [
            "Data Snapshot (first 5 rows):\n",
            "                                            Headline  Label\n",
            "0  Thirst, Fear and Bribes on Desert Escape from ...      0\n",
            "1  Toshiba 20 TV freaks out, sends distress signa...      3\n",
            "2  British hostage tried fleeing before death: re...      3\n",
            "3  Keychain clicker kills TVs Discrete device tur...      3\n",
            "4  Cleric returns to Iraq, orders march on Najaf ...      0\n"
          ]
        }
      ],
      "source": [
        "snapshot = pd.DataFrame({\"Headline\": train_texts, \"Label\": train_labels}).head(5)\n",
        "print(\"Data Snapshot (first 5 rows):\")\n",
        "print(snapshot)"
      ]
    },
    {
      "cell_type": "markdown",
      "metadata": {
        "id": "TjqSiL7xUemg"
      },
      "source": [
        "## 1.6 - Feature Extraction with Bag-of-Words / TF‑IDF\n",
        "We use ***CountVectorizer*** from scikit-learn to tokenize the headlines. Text data is converted into numerical features using **CountVectorizer**\n",
        "\n",
        "*   All words are converted to lowercase.\n",
        "*   We use a minimum document frequency to filter rare tokens.\n",
        "\n",
        "We then report the vocabulary size and the shapes of the training and test matrices."
      ]
    },
    {
      "cell_type": "code",
      "execution_count": null,
      "metadata": {
        "colab": {
          "base_uri": "https://localhost:8080/"
        },
        "id": "-9wgpc8_UkDa",
        "outputId": "bb96666f-aad7-4b48-f371-3e79e4540977"
      },
      "outputs": [
        {
          "name": "stdout",
          "output_type": "stream",
          "text": [
            "\n",
            "Vocabulary size: 18331\n",
            "\n",
            "Shape of training data matrix: (30000, 18331)\n",
            "Shape of test data matrix: (7600, 18331)\n"
          ]
        }
      ],
      "source": [
        "# Create a CountVectorizer with lowercase conversion and minimum document frequency threshold\n",
        "vectorizer = CountVectorizer(lowercase=True, min_df=3)\n",
        "\n",
        "# Fit on training texts and transform both training and test texts\n",
        "X_train = vectorizer.fit_transform(train_texts)\n",
        "X_test = vectorizer.transform(test_texts)\n",
        "\n",
        "# Report the vocabulary size and matrix shapes\n",
        "vocab_size = len(vectorizer.vocabulary_)\n",
        "print(f\"\\nVocabulary size: {vocab_size}\\n\")\n",
        "print(f\"Shape of training data matrix: {X_train.shape}\") # (n_train, vocab_size)\n",
        "print(f\"Shape of test data matrix: {X_test.shape}\")      # (n_test, vocab_size)\n"
      ]
    },
    {
      "cell_type": "markdown",
      "metadata": {
        "id": "emJ-c2XUWM1k"
      },
      "source": [
        "# 2 - Baseline Classifier: Logistic Regression\n",
        "\n",
        "We implement a baseline logistic regression classifier.\n",
        "\n",
        "*   First, we train without regularization.\n",
        "*   Then, we train with L2 regularization.\n",
        "\n",
        "We report the classification accuracies on the training and test sets."
      ]
    },
    {
      "cell_type": "markdown",
      "metadata": {
        "id": "bXFQXzE-WoXU"
      },
      "source": [
        "## 2.1 - Logistic Regression **without** Regularization"
      ]
    },
    {
      "cell_type": "code",
      "execution_count": null,
      "metadata": {
        "colab": {
          "base_uri": "https://localhost:8080/"
        },
        "id": "NXe47gerWrVB",
        "outputId": "0512c591-663d-495d-ced4-e0cf568e6749"
      },
      "outputs": [
        {
          "name": "stdout",
          "output_type": "stream",
          "text": [
            "\n",
            "### Logistic Regression Baseline (No Regularization) ###\n",
            "\n",
            "Training Accuracy (No Reg): 0.9998\n",
            "Test Accuracy (No Reg): 0.8683\n"
          ]
        }
      ],
      "source": [
        "print(\"\\n### Logistic Regression Baseline (No Regularization) ###\\n\")\n",
        "\n",
        "# Instantiate logistic regression with a very high C to effectively turn off regularization\n",
        "lr_no_reg = LogisticRegression(fit_intercept=True, C=1e9, solver=\"liblinear\", max_iter=1000)\n",
        "\n",
        "# Train the classifier\n",
        "lr_no_reg.fit(X_train, train_labels)\n",
        "\n",
        "# Predict on training and test sets\n",
        "train_preds_no_reg = lr_no_reg.predict(X_train)\n",
        "test_preds_no_reg = lr_no_reg.predict(X_test)\n",
        "\n",
        "# Computing accuracy scores\n",
        "train_acc_no_reg = accuracy_score(train_labels, train_preds_no_reg)\n",
        "test_acc_no_reg = accuracy_score(test_labels, test_preds_no_reg)\n",
        "\n",
        "print(f\"Training Accuracy (No Reg): {train_acc_no_reg:.4f}\")\n",
        "print(f\"Test Accuracy (No Reg): {test_acc_no_reg:.4f}\")\n"
      ]
    },
    {
      "cell_type": "markdown",
      "metadata": {
        "id": "Ejkpn6knXD8w"
      },
      "source": [
        "## 2.2 - Logistic Regression with L2 Regularization"
      ]
    },
    {
      "cell_type": "code",
      "execution_count": null,
      "metadata": {
        "colab": {
          "base_uri": "https://localhost:8080/"
        },
        "id": "Ca6683elXMUC",
        "outputId": "71142688-0cfe-44be-b59e-9cbbd19b20b2"
      },
      "outputs": [
        {
          "name": "stdout",
          "output_type": "stream",
          "text": [
            "\n",
            "### Logistic Regression Baseline (With L2 Regularization, lambda=10.0) ###\n",
            "\n",
            "Training Accuracy (With Reg): 0.9463\n",
            "Test Accuracy (With Reg): 0.8992\n"
          ]
        }
      ],
      "source": [
        "print(\"\\n### Logistic Regression Baseline (With L2 Regularization, lambda=10.0) ###\\n\")\n",
        "\n",
        "# For L2 regularization with lambda=10.0, set C = 1/lambda = 0.1.\n",
        "lr_reg = LogisticRegression(fit_intercept=True, C=0.1, solver=\"liblinear\", max_iter=1000)\n",
        "\n",
        "# Train the classifier\n",
        "lr_reg.fit(X_train, train_labels)\n",
        "\n",
        "# Predict on training and test sets\n",
        "train_preds_reg = lr_reg.predict(X_train)\n",
        "test_preds_reg = lr_reg.predict(X_test)\n",
        "\n",
        "# Computing accuracy scores\n",
        "train_acc_reg = accuracy_score(train_labels, train_preds_reg)\n",
        "test_acc_reg = accuracy_score(test_labels, test_preds_reg)\n",
        "\n",
        "print(f\"Training Accuracy (With Reg): {train_acc_reg:.4f}\")\n",
        "print(f\"Test Accuracy (With Reg): {test_acc_reg:.4f}\")"
      ]
    },
    {
      "cell_type": "markdown",
      "metadata": {
        "id": "5TUDbEKEamzt"
      },
      "source": [
        "## 2.3 - Additional Evaluation (Precision, Recall, F1-score, Confusion Matrix)\n"
      ]
    },
    {
      "cell_type": "code",
      "execution_count": null,
      "metadata": {
        "colab": {
          "base_uri": "https://localhost:8080/"
        },
        "id": "1IGWY8TKar5m",
        "outputId": "eeff30c0-d462-4031-ed4b-84fb980fd42a"
      },
      "outputs": [
        {
          "name": "stdout",
          "output_type": "stream",
          "text": [
            "\n",
            "Classification Report (Test, With Regularization):\n",
            "              precision    recall  f1-score   support\n",
            "\n",
            "           0       0.92      0.89      0.90      1900\n",
            "           1       0.94      0.97      0.96      1900\n",
            "           2       0.87      0.85      0.86      1900\n",
            "           3       0.87      0.88      0.87      1900\n",
            "\n",
            "    accuracy                           0.90      7600\n",
            "   macro avg       0.90      0.90      0.90      7600\n",
            "weighted avg       0.90      0.90      0.90      7600\n",
            "\n",
            "Confusion Matrix:\n",
            "[[1695   66   83   56]\n",
            " [  22 1843   18   17]\n",
            " [  69   20 1623  188]\n",
            " [  61   26  140 1673]]\n"
          ]
        }
      ],
      "source": [
        "print(\"\\nClassification Report (Test, With Regularization):\")\n",
        "print(classification_report(test_labels, test_preds_reg))\n",
        "\n",
        "print(\"Confusion Matrix:\")\n",
        "print(confusion_matrix(test_labels, test_preds_reg))\n"
      ]
    },
    {
      "cell_type": "markdown",
      "metadata": {
        "id": "qMYGUq8DiT6K"
      },
      "source": [
        "## 2.4 - Confusion Matrix Heatmap"
      ]
    },
    {
      "cell_type": "code",
      "execution_count": null,
      "metadata": {
        "colab": {
          "base_uri": "https://localhost:8080/",
          "height": 564
        },
        "id": "JL8WuNb7iaFF",
        "outputId": "504cc0d0-5e64-4397-dcb2-4b397350ec7d"
      },
      "outputs": [
        {
          "data": {
            "image/png": "[encoded data removed]",
            "text/plain": [
              "<Figure size 800x600 with 2 Axes>"
            ]
          },
          "metadata": {},
          "output_type": "display_data"
        }
      ],
      "source": [
        "import seaborn as sns\n",
        "\n",
        "label_names = [\"World\", \"Sports\", \"Business\", \"Sci/Tech\"]\n",
        "cm = confusion_matrix(test_labels, test_preds_reg)\n",
        "\n",
        "plt.figure(figsize=(8, 6))\n",
        "sns.heatmap(cm, annot=True, fmt='d', cmap='Blues', xticklabels=label_names, yticklabels=label_names)\n",
        "plt.title(\"Confusion Matrix - Logistic Regression (With Reg)\")\n",
        "plt.xlabel(\"Predicted Label\")\n",
        "plt.ylabel(\"True Label\")\n",
        "plt.show()"
      ]
    },
    {
      "cell_type": "markdown",
      "metadata": {
        "id": "0yDt8KJlXXdn"
      },
      "source": [
        "# 3 - Neural Network Classifier\n",
        "\n",
        "Next, we implement a simple feedforward neural network classifier for the news classification task. The architecture is as follows:\n",
        "\n",
        "1. Embedding Layer: Converts word indices to dense vectors.\n",
        "\n",
        "2. First Hidden Layer: Sums the embeddings over the sequence and applies a linear transformation followed by a sigmoid activation.\n",
        "\n",
        "3. Second Hidden Layer: Applies another linear transformation and sigmoid activation.\n",
        "\n",
        "4. Output Layer: Applies a final linear transformation to predict the logits for the 4 classes, followed by softmax during evaluation.\n",
        "\n",
        "We use PyTorch to implement the model.\n",
        "\n",
        "Next, we will then train the network and evaluate its performance."
      ]
    },
    {
      "cell_type": "code",
      "execution_count": null,
      "metadata": {
        "colab": {
          "base_uri": "https://localhost:8080/"
        },
        "id": "fgvn9s-EccpO",
        "outputId": "79bcd507-89dc-4112-c9be-91732f669130"
      },
      "outputs": [
        {
          "data": {
            "text/plain": [
              "<torch._C.Generator at 0x7a83237295f0>"
            ]
          },
          "execution_count": 12,
          "metadata": {},
          "output_type": "execute_result"
        }
      ],
      "source": [
        "import torch\n",
        "import torch.nn as nn\n",
        "import torch.nn.functional as F\n",
        "from torch.utils.data import Dataset, DataLoader\n",
        "\n",
        "# Setting torch seed for reproducibility\n",
        "torch.manual_seed(42)\n"
      ]
    },
    {
      "cell_type": "markdown",
      "metadata": {
        "id": "7hTfViRxcyhT"
      },
      "source": [
        "## 3.1 - Custom Dataset and DataLoader\n",
        "We define a custom dataset to process news headlines. Each headline is tokenized (using a basic split), mapped to indices using the vocabulary from CountVectorizer, and then finally padded/truncated to a fixed length."
      ]
    },
    {
      "cell_type": "code",
      "execution_count": null,
      "metadata": {
        "id": "YgrZopXWc1lT"
      },
      "outputs": [],
      "source": [
        "# Building a word-to-index mapping from CountVectorizer's vocabulary\n",
        "# Note: CountVectorizer vocabulary maps: word -> index.\n",
        "\n",
        "vocab = vectorizer.vocabulary_\n",
        "\n",
        "# We assume the padding index is 0. If \"<pad>\" is not in the vocabulary, we can use 0 as default.\n",
        "# (In practice, you might add a dedicated pad token to the vocabulary.)\n",
        "pad_idx = 0\n",
        "default_idx = 0 # Unknown words get index 0\n",
        "\n",
        "# Define maximum sequence length (e.g., 20 tokens)\n",
        "max_seq_len = 20\n",
        "\n",
        "# Convert text to lowercase and split on whitespace.\n",
        "def tokenize_text(text):\n",
        "  tokens = text.lower().split()\n",
        "  indices = [vocab.get(token, default_idx) for token in tokens]\n",
        "\n",
        "  return indices\n"
      ]
    },
    {
      "cell_type": "code",
      "execution_count": null,
      "metadata": {
        "id": "_XtDLb6-eZt0"
      },
      "outputs": [],
      "source": [
        "class AGNewsDataset(Dataset):\n",
        "  def __init__(self, texts, labels, max_len=max_seq_len):\n",
        "    self.texts = texts\n",
        "    self.labels = labels\n",
        "    self.max_len = max_len\n",
        "\n",
        "  def __len__(self):\n",
        "    return len(self.texts)\n",
        "\n",
        "  def __getitem__(self, idx):\n",
        "    indices = tokenize_text(self.texts[idx])\n",
        "    if len(indices) < self.max_len:\n",
        "        indices = indices + [pad_idx] * (self.max_len - len(indices))\n",
        "    else:\n",
        "        indices = indices[:self.max_len]\n",
        "    label = self.labels[idx]\n",
        "\n",
        "    return torch.tensor(indices, dtype=torch.long), torch.tensor(label, dtype=torch.long)"
      ]
    },
    {
      "cell_type": "code",
      "execution_count": null,
      "metadata": {
        "id": "Tr4egsKbeXvS"
      },
      "outputs": [],
      "source": [
        "# Create dataset and DataLoader instances\n",
        "train_dataset = AGNewsDataset(train_texts, train_labels, max_len=max_seq_len)\n",
        "test_dataset = AGNewsDataset(test_texts, test_labels, max_len=max_seq_len)\n",
        "\n",
        "batch_size = 64\n",
        "\n",
        "train_loader = DataLoader(train_dataset, batch_size=batch_size, shuffle=True)\n",
        "test_loader = DataLoader(test_dataset, batch_size=batch_size, shuffle=False)\n"
      ]
    },
    {
      "cell_type": "markdown",
      "metadata": {
        "id": "6ja5ufwPLs1t"
      },
      "source": [
        "## 3.2 - Neural Classifiers"
      ]
    },
    {
      "cell_type": "code",
      "execution_count": null,
      "metadata": {
        "id": "DEswUh_1euq_"
      },
      "outputs": [],
      "source": [
        "class NeuralClassifier(nn.Module):\n",
        "  # Initialize the neural network.\n",
        "  def __init__(self, vocab_size, embed_size, hidden_size, num_classes=4):\n",
        "\n",
        "    super(NeuralClassifier, self).__init__()\n",
        "\n",
        "    \"\"\" Initialize the neural network.\n",
        "    Args:\n",
        "        vocab_size (int): Size of the vocabulary.\n",
        "        embed_size (int): Dimensionality of word embeddings.\n",
        "        hidden_size (int): Size of hidden layers.\n",
        "        num_classes (int): Number of news categories.\n",
        "    \"\"\"\n",
        "    # Defined layers as per 'Neural Networks for NLP.pdf' slides 27-29:\n",
        "        # Step 1: Embedding layer (with padding support)\n",
        "        # Step 2: Linear layer from embed_size to hidden_size (first hidden layer)\n",
        "        # Step 3: Second linear layer from hidden_size to hidden_size (second hidden layer)\n",
        "        # Step 4: Output linear layer from hidden_size to class_size\n",
        "\n",
        "    # Embedding layer (with padding support)\n",
        "    self.embedding = nn.Embedding(vocab_size, embed_size, padding_idx=pad_idx)\n",
        "\n",
        "    # 2 layers network\n",
        "    self.fc1 = nn.Linear(embed_size, hidden_size)\n",
        "    self.fc2 = nn.Linear(hidden_size, hidden_size)\n",
        "\n",
        "    self.fc_out = nn.Linear(hidden_size, num_classes)\n",
        "\n",
        "  def forward(self, x):\n",
        "    \"\"\"\n",
        "    Forward pass of the model.\n",
        "\n",
        "    Args:\n",
        "        x (Tensor): Input tensor of shape [batch_size, seq_len].\n",
        "\n",
        "    Returns:\n",
        "        logits (Tensor): Logits of shape [batch_size, num_classes].\n",
        "    \"\"\"\n",
        "\n",
        "    # Embedding lookup\n",
        "    embedded = self.embedding(x)               # [B, L, E]\n",
        "\n",
        "    # Sum over sequence length to create fixed-size representation\n",
        "    summed = embedded.sum(dim=1)               # [B, E] fixed-size representation\n",
        "\n",
        "    # Pass through layers with sigmoid activation\n",
        "    h1 = torch.sigmoid(self.fc1(summed))       # first hidden layer\n",
        "    h2 = torch.sigmoid(self.fc2(h1))           # second hidden layer\n",
        "\n",
        "    logits = self.fc_out(h2)                   # output layer (logits)\n",
        "    return logits\n"
      ]
    },
    {
      "cell_type": "markdown",
      "metadata": {
        "id": "w5RF63ZqLnVf"
      },
      "source": [
        "### 3.2.1 Deep Neural Classifier\n",
        "Adding more layers can potentially improve accuracy by allowing the network to learn more complex, abstract representations. However, deeper networks also come with increased risk of overfitting and may require careful tuning (e.g., proper regularization, dropout, and learning rate adjustments). It's worth experimenting with a deeper architecture\n",
        "\n",
        "Things we changed for this deep model:\n",
        "- We replaced **torch.sigmoid** with **F.relu**, which is less prone to saturation and allows better gradient propagation\n",
        "\n",
        "In training:\n",
        "- The dropout rate is reduced to 0.2 to retain more information while still providing regularization\n",
        "- Lowering the learning rate to 0.01 can help the deeper network converge more steadily"
      ]
    },
    {
      "cell_type": "code",
      "execution_count": null,
      "metadata": {
        "id": "oKoGktecLdzf"
      },
      "outputs": [],
      "source": [
        "class DeepNeuralClassifier(nn.Module):\n",
        "    def __init__(self, vocab_size, embed_size, hidden_size, num_classes=4, dropout_rate=0.5):\n",
        "\n",
        "        super(DeepNeuralClassifier, self).__init__()\n",
        "        \"\"\"\n",
        "        Initialize the deep neural network.\n",
        "\n",
        "        Args:\n",
        "            vocab_size (int): Size of the vocabulary.\n",
        "            embed_size (int): Dimensionality of word embeddings.\n",
        "            hidden_size (int): Size of hidden layers.\n",
        "            num_classes (int): Number of news categories.\n",
        "            dropout_rate (float): Dropout probability.\n",
        "        \"\"\"\n",
        "\n",
        "        # Embedding layer (with padding support)\n",
        "        self.embedding = nn.Embedding(vocab_size, embed_size, padding_idx=pad_idx)\n",
        "\n",
        "        # 4 layers network\n",
        "        self.fc1 = nn.Linear(embed_size, hidden_size)\n",
        "        self.fc2 = nn.Linear(hidden_size, hidden_size)\n",
        "        self.fc3 = nn.Linear(hidden_size, hidden_size)\n",
        "        self.fc4 = nn.Linear(hidden_size, hidden_size)\n",
        "\n",
        "        self.fc_out = nn.Linear(hidden_size, num_classes)\n",
        "\n",
        "        # Dropout layer\n",
        "        self.dropout = nn.Dropout(dropout_rate)\n",
        "\n",
        "    def forward(self, x):\n",
        "        \"\"\"\n",
        "        Forward pass of the model.\n",
        "\n",
        "        Args:\n",
        "            x (Tensor): Input tensor of shape [batch_size, seq_len].\n",
        "\n",
        "        Returns:\n",
        "            logits (Tensor): Logits of shape [batch_size, num_classes].\n",
        "        \"\"\"\n",
        "        # Get embeddings: [batch_size, seq_len, embed_size]\n",
        "        embedded = self.embedding(x)\n",
        "\n",
        "        # Mean pooling across sequence length: [batch_size, embed_size]\n",
        "        pooled = embedded.mean(dim=1)\n",
        "\n",
        "        # Pass through layers with ReLU and dropout\n",
        "        h1 = F.relu(self.fc1(pooled))\n",
        "        h1 = self.dropout(h1)\n",
        "        h2 = F.relu(self.fc2(h1))\n",
        "        h2 = self.dropout(h2)\n",
        "        h3 = F.relu(self.fc3(h2))\n",
        "        h3 = self.dropout(h3)\n",
        "        logits = self.fc_out(h3)\n",
        "\n",
        "        return logits\n",
        "\n",
        "# # Example usage: instantiate the new deep model\n",
        "# deep_model = DeepNeuralClassifier(vocab_size=len(vocab), embed_size=64, hidden_size=64, num_classes=4, dropout_rate=0.5)\n",
        "\n",
        "# # Then use the same training and evaluation pipeline as before.\n"
      ]
    },
    {
      "cell_type": "markdown",
      "metadata": {
        "id": "iVxFAe9hf28P"
      },
      "source": [
        "## 3.3 - Training and Evaluation Functions\n",
        "We define functions for training one mini-batch and evaluating the model over an entire DataLoader."
      ]
    },
    {
      "cell_type": "markdown",
      "metadata": {
        "id": "XNGtcd1ThOMi"
      },
      "source": [
        "### 3.3.1 - Training Function:\n"
      ]
    },
    {
      "cell_type": "code",
      "execution_count": null,
      "metadata": {
        "id": "9qkbTvZtf6U4"
      },
      "outputs": [],
      "source": [
        "def train_batch(batch, model, optimizer):\n",
        "  \"\"\" Train on one mini-batch\n",
        "  Args:\n",
        "    batch (tuple): (texts, labels) from DataLoader.\n",
        "    model (nn.Module): Neural network.\n",
        "    optimizer: Optimizer instance.\n",
        "\n",
        "  Returns:\n",
        "      loss (float): Mini-batch loss.\n",
        "  \"\"\"\n",
        "  # set in training mode\n",
        "  model.train()\n",
        "\n",
        "  # initialize optimizer\n",
        "  optimizer.zero_grad()\n",
        "\n",
        "  # forward: prediction\n",
        "  texts, labels = batch\n",
        "  logits = model(texts)\n",
        "  loss = F.cross_entropy(logits, labels)\n",
        "\n",
        "  # backward: gradient computation\n",
        "  loss.backward()\n",
        "\n",
        "  # norm clipping, in case the gradient norm is too large\n",
        "  torch.nn.utils.clip_grad_norm_(model.parameters(), 1.0)\n",
        "\n",
        "  # gradient-based update parameter\n",
        "  optimizer.step()\n",
        "\n",
        "  return loss.item()"
      ]
    },
    {
      "cell_type": "markdown",
      "metadata": {
        "id": "NwzlxshhhXf7"
      },
      "source": [
        "### 3.3.2 - Evaluating Function:"
      ]
    },
    {
      "cell_type": "code",
      "execution_count": null,
      "metadata": {
        "id": "fH7UWnadhHxm"
      },
      "outputs": [],
      "source": [
        "def evaluate(loader, model):\n",
        "  \"\"\" Evaluate model on given DataLoader.\n",
        "  Args:\n",
        "    loader (DataLoader): Evaluation data.\n",
        "    model (nn.Module): Neural network.\n",
        "\n",
        "  Returns:\n",
        "    avg_loss (float): Average loss.\n",
        "    accuracy (float): Classification accuracy.\n",
        "  \"\"\"\n",
        "  model.eval()\n",
        "  total_loss = 0.0\n",
        "  total_correct = 0\n",
        "  total_examples = 0\n",
        "  with torch.no_grad():\n",
        "      for texts, labels in loader:\n",
        "          logits = model(texts)\n",
        "          loss = F.cross_entropy(logits, labels)\n",
        "          total_loss += loss.item() * texts.size(0)\n",
        "          preds = torch.argmax(logits, dim=1)\n",
        "          total_correct += (preds == labels).sum().item()\n",
        "          total_examples += texts.size(0)\n",
        "  avg_loss = total_loss / total_examples\n",
        "  accuracy = total_correct / total_examples\n",
        "\n",
        "  return avg_loss, accuracy\n"
      ]
    },
    {
      "cell_type": "markdown",
      "metadata": {
        "id": "x5hZeXgYiJgx"
      },
      "source": [
        "## 3.4 - Training the Neural Network Classifier\n",
        "Hyperparameters:\n",
        "\n",
        "- Embedding size: 64\n",
        "\n",
        "- Hidden size: 64\n",
        "\n",
        "- Optimizer: SGD with learning rate 0.05\n",
        "\n",
        "- Epochs: 50 (for demonstration; increase as needed)\n",
        "\n",
        "We record the training loss and validation performance at each epoch."
      ]
    },
    {
      "cell_type": "code",
      "execution_count": null,
      "metadata": {
        "colab": {
          "base_uri": "https://localhost:8080/"
        },
        "id": "O_Z-W3PEiQ3M",
        "outputId": "aa3892f3-0882-4b83-961d-8225e33eb4bf"
      },
      "outputs": [
        {
          "name": "stdout",
          "output_type": "stream",
          "text": [
            "\n",
            "### Training Neural Network Classifier ###\n",
            "\n",
            "Epoch 1: Train Loss = 1.3821, Val Loss = 1.3731, Val Accuracy = 0.3138\n",
            "Epoch 2: Train Loss = 1.3537, Val Loss = 1.3355, Val Accuracy = 0.3559\n",
            "Epoch 3: Train Loss = 1.3085, Val Loss = 1.2957, Val Accuracy = 0.4022\n",
            "Epoch 4: Train Loss = 1.2676, Val Loss = 1.2649, Val Accuracy = 0.4279\n",
            "Epoch 5: Train Loss = 1.2372, Val Loss = 1.2445, Val Accuracy = 0.4420\n",
            "Epoch 6: Train Loss = 1.2201, Val Loss = 1.2396, Val Accuracy = 0.4511\n",
            "Epoch 7: Train Loss = 1.2083, Val Loss = 1.2293, Val Accuracy = 0.4537\n",
            "Epoch 8: Train Loss = 1.1982, Val Loss = 1.2248, Val Accuracy = 0.4657\n",
            "Epoch 9: Train Loss = 1.1883, Val Loss = 1.2127, Val Accuracy = 0.4703\n",
            "Epoch 10: Train Loss = 1.1779, Val Loss = 1.2050, Val Accuracy = 0.4786\n",
            "Epoch 11: Train Loss = 1.1673, Val Loss = 1.2001, Val Accuracy = 0.4801\n",
            "Epoch 12: Train Loss = 1.1562, Val Loss = 1.1888, Val Accuracy = 0.4871\n",
            "Epoch 13: Train Loss = 1.1451, Val Loss = 1.1821, Val Accuracy = 0.4882\n",
            "Epoch 14: Train Loss = 1.1341, Val Loss = 1.1778, Val Accuracy = 0.4958\n",
            "Epoch 15: Train Loss = 1.1226, Val Loss = 1.1681, Val Accuracy = 0.4996\n",
            "Epoch 16: Train Loss = 1.1105, Val Loss = 1.1617, Val Accuracy = 0.5046\n",
            "Epoch 17: Train Loss = 1.0990, Val Loss = 1.1542, Val Accuracy = 0.5089\n",
            "Epoch 18: Train Loss = 1.0874, Val Loss = 1.1523, Val Accuracy = 0.5154\n",
            "Epoch 19: Train Loss = 1.0745, Val Loss = 1.1420, Val Accuracy = 0.5188\n",
            "Epoch 20: Train Loss = 1.0630, Val Loss = 1.1351, Val Accuracy = 0.5193\n",
            "Epoch 21: Train Loss = 1.0510, Val Loss = 1.1316, Val Accuracy = 0.5245\n",
            "Epoch 22: Train Loss = 1.0394, Val Loss = 1.1262, Val Accuracy = 0.5242\n",
            "Epoch 23: Train Loss = 1.0271, Val Loss = 1.1219, Val Accuracy = 0.5312\n",
            "Epoch 24: Train Loss = 1.0161, Val Loss = 1.1267, Val Accuracy = 0.5278\n",
            "Epoch 25: Train Loss = 1.0044, Val Loss = 1.1160, Val Accuracy = 0.5347\n",
            "Epoch 26: Train Loss = 0.9935, Val Loss = 1.1159, Val Accuracy = 0.5333\n",
            "Epoch 27: Train Loss = 0.9824, Val Loss = 1.1104, Val Accuracy = 0.5386\n",
            "Epoch 28: Train Loss = 0.9723, Val Loss = 1.1121, Val Accuracy = 0.5401\n",
            "Epoch 29: Train Loss = 0.9621, Val Loss = 1.1039, Val Accuracy = 0.5443\n",
            "Epoch 30: Train Loss = 0.9517, Val Loss = 1.1041, Val Accuracy = 0.5436\n",
            "Epoch 31: Train Loss = 0.9424, Val Loss = 1.1040, Val Accuracy = 0.5488\n",
            "Epoch 32: Train Loss = 0.9333, Val Loss = 1.1035, Val Accuracy = 0.5409\n",
            "Epoch 33: Train Loss = 0.9245, Val Loss = 1.1012, Val Accuracy = 0.5491\n",
            "Epoch 34: Train Loss = 0.9155, Val Loss = 1.1020, Val Accuracy = 0.5455\n",
            "Epoch 35: Train Loss = 0.9078, Val Loss = 1.1079, Val Accuracy = 0.5438\n",
            "Epoch 36: Train Loss = 0.9001, Val Loss = 1.1009, Val Accuracy = 0.5511\n",
            "Epoch 37: Train Loss = 0.8922, Val Loss = 1.1054, Val Accuracy = 0.5517\n",
            "Epoch 38: Train Loss = 0.8843, Val Loss = 1.1044, Val Accuracy = 0.5541\n",
            "Epoch 39: Train Loss = 0.8777, Val Loss = 1.1001, Val Accuracy = 0.5564\n",
            "Epoch 40: Train Loss = 0.8704, Val Loss = 1.1040, Val Accuracy = 0.5476\n",
            "Epoch 41: Train Loss = 0.8640, Val Loss = 1.1012, Val Accuracy = 0.5572\n",
            "Epoch 42: Train Loss = 0.8580, Val Loss = 1.1037, Val Accuracy = 0.5568\n",
            "Epoch 43: Train Loss = 0.8508, Val Loss = 1.1066, Val Accuracy = 0.5538\n",
            "Epoch 44: Train Loss = 0.8449, Val Loss = 1.1070, Val Accuracy = 0.5638\n",
            "Epoch 45: Train Loss = 0.8381, Val Loss = 1.1039, Val Accuracy = 0.5624\n",
            "Epoch 46: Train Loss = 0.8324, Val Loss = 1.1040, Val Accuracy = 0.5630\n",
            "Epoch 47: Train Loss = 0.8270, Val Loss = 1.1028, Val Accuracy = 0.5620\n",
            "Epoch 48: Train Loss = 0.8204, Val Loss = 1.1039, Val Accuracy = 0.5588\n",
            "Epoch 49: Train Loss = 0.8155, Val Loss = 1.1034, Val Accuracy = 0.5643\n",
            "Epoch 50: Train Loss = 0.8093, Val Loss = 1.1066, Val Accuracy = 0.5634\n",
            "\n",
            "Neural Network Training Completed.\n",
            "Best Validation Accuracy: 0.5643\n",
            "Final Validation Accuracy: 0.5634\n"
          ]
        }
      ],
      "source": [
        "# Hyperparameters\n",
        "embed_size = 64\n",
        "hidden_size = 64\n",
        "num_classes = 4\n",
        "num_epochs = 50 # Increase for final training\n",
        "learning_rate = 0.05\n",
        "\n",
        "# Initialize the neural network model\n",
        "model_nn = NeuralClassifier(\n",
        "    vocab_size=len(vocab),\n",
        "    embed_size=embed_size,\n",
        "    hidden_size=hidden_size,\n",
        "    num_classes=num_classes)\n",
        "\n",
        "# Use SGD optimizer\n",
        "optimizer_nn = torch.optim.SGD(\n",
        "    model_nn.parameters(), lr=learning_rate)\n",
        "\n",
        "# Record training progress\n",
        "train_losses = []\n",
        "val_losses = []\n",
        "val_accuracies = []\n",
        "\n",
        "print(\"\\n### Training Neural Network Classifier ###\\n\")\n",
        "for epoch in range(1, num_epochs + 1):\n",
        "    # 1. Train for one epoch\n",
        "    epoch_loss = 0.0\n",
        "    for batch in train_loader:\n",
        "        loss = train_batch(batch, model_nn, optimizer_nn)\n",
        "        epoch_loss += loss\n",
        "\n",
        "    # 2. Compute average training loss for this epoch\n",
        "    avg_train_loss_nn = epoch_loss / len(train_loader)\n",
        "    train_losses.append(avg_train_loss_nn)\n",
        "\n",
        "    # 3. Evaluate on the test/validation set\n",
        "    val_loss_nn, val_acc_nn = evaluate(test_loader, model_nn)\n",
        "    val_losses.append(val_loss_nn)\n",
        "    val_accuracies.append(val_acc_nn)\n",
        "\n",
        "    # 4. Print a single summary line for this epoch\n",
        "    print(f\"Epoch {epoch}: \"\n",
        "          f\"Train Loss = {avg_train_loss_nn:.4f}, \"\n",
        "          f\"Val Loss = {val_loss_nn:.4f}, \"\n",
        "          f\"Val Accuracy = {val_acc_nn:.4f}\")\n",
        "\n",
        "best_nn_acc = max(val_accuracies)\n",
        "final_nn_acc = val_accuracies[-1]\n",
        "\n",
        "print(\"\\nNeural Network Training Completed.\")\n",
        "print(f\"Best Validation Accuracy: {best_nn_acc:.4f}\")\n",
        "print(f\"Final Validation Accuracy: {final_nn_acc:.4f}\")"
      ]
    },
    {
      "cell_type": "markdown",
      "metadata": {
        "id": "8gQXzn-rNewd"
      },
      "source": [
        "### 3.4.1 Training the Deep Neural Network"
      ]
    },
    {
      "cell_type": "code",
      "execution_count": null,
      "metadata": {
        "colab": {
          "base_uri": "https://localhost:8080/"
        },
        "id": "OPXEP9f9NmbK",
        "outputId": "16bdb5db-789f-4da7-97bf-b7713fb55b0c"
      },
      "outputs": [
        {
          "name": "stdout",
          "output_type": "stream",
          "text": [
            "\n",
            "### Training Deep Neural Network Classifier ###\n",
            "\n",
            "Epoch 1: Train Loss = 1.3867, Val Loss = 1.3862, Val Accuracy = 0.2520\n",
            "Epoch 2: Train Loss = 1.3862, Val Loss = 1.3861, Val Accuracy = 0.2501\n",
            "Epoch 3: Train Loss = 1.3861, Val Loss = 1.3860, Val Accuracy = 0.2509\n",
            "Epoch 4: Train Loss = 1.3859, Val Loss = 1.3859, Val Accuracy = 0.2524\n",
            "Epoch 5: Train Loss = 1.3857, Val Loss = 1.3857, Val Accuracy = 0.2521\n",
            "Epoch 6: Train Loss = 1.3857, Val Loss = 1.3855, Val Accuracy = 0.2713\n",
            "Epoch 7: Train Loss = 1.3853, Val Loss = 1.3853, Val Accuracy = 0.2704\n",
            "Epoch 8: Train Loss = 1.3851, Val Loss = 1.3851, Val Accuracy = 0.2745\n",
            "Epoch 9: Train Loss = 1.3850, Val Loss = 1.3848, Val Accuracy = 0.2767\n",
            "Epoch 10: Train Loss = 1.3845, Val Loss = 1.3845, Val Accuracy = 0.2629\n",
            "Epoch 11: Train Loss = 1.3843, Val Loss = 1.3841, Val Accuracy = 0.2791\n",
            "Epoch 12: Train Loss = 1.3839, Val Loss = 1.3836, Val Accuracy = 0.2951\n",
            "Epoch 13: Train Loss = 1.3833, Val Loss = 1.3829, Val Accuracy = 0.3066\n",
            "Epoch 14: Train Loss = 1.3826, Val Loss = 1.3821, Val Accuracy = 0.3164\n",
            "Epoch 15: Train Loss = 1.3816, Val Loss = 1.3811, Val Accuracy = 0.3153\n",
            "Epoch 16: Train Loss = 1.3806, Val Loss = 1.3797, Val Accuracy = 0.3301\n",
            "Epoch 17: Train Loss = 1.3788, Val Loss = 1.3778, Val Accuracy = 0.3358\n",
            "Epoch 18: Train Loss = 1.3769, Val Loss = 1.3752, Val Accuracy = 0.3361\n",
            "Epoch 19: Train Loss = 1.3742, Val Loss = 1.3716, Val Accuracy = 0.3418\n",
            "Epoch 20: Train Loss = 1.3702, Val Loss = 1.3667, Val Accuracy = 0.3512\n",
            "Epoch 21: Train Loss = 1.3661, Val Loss = 1.3604, Val Accuracy = 0.3520\n",
            "Epoch 22: Train Loss = 1.3591, Val Loss = 1.3527, Val Accuracy = 0.3528\n",
            "Epoch 23: Train Loss = 1.3511, Val Loss = 1.3439, Val Accuracy = 0.3509\n",
            "Epoch 24: Train Loss = 1.3464, Val Loss = 1.3360, Val Accuracy = 0.3566\n",
            "Epoch 25: Train Loss = 1.3384, Val Loss = 1.3283, Val Accuracy = 0.3611\n",
            "Epoch 26: Train Loss = 1.3335, Val Loss = 1.3220, Val Accuracy = 0.3646\n",
            "Epoch 27: Train Loss = 1.3298, Val Loss = 1.3174, Val Accuracy = 0.3699\n",
            "Epoch 28: Train Loss = 1.3261, Val Loss = 1.3124, Val Accuracy = 0.3762\n",
            "Epoch 29: Train Loss = 1.3219, Val Loss = 1.3080, Val Accuracy = 0.3845\n",
            "Epoch 30: Train Loss = 1.3186, Val Loss = 1.3035, Val Accuracy = 0.3889\n",
            "Epoch 31: Train Loss = 1.3153, Val Loss = 1.2994, Val Accuracy = 0.3920\n",
            "Epoch 32: Train Loss = 1.3094, Val Loss = 1.2943, Val Accuracy = 0.3978\n",
            "Epoch 33: Train Loss = 1.3037, Val Loss = 1.2891, Val Accuracy = 0.4057\n",
            "Epoch 34: Train Loss = 1.3015, Val Loss = 1.2839, Val Accuracy = 0.4046\n",
            "Epoch 35: Train Loss = 1.2941, Val Loss = 1.2782, Val Accuracy = 0.4113\n",
            "Epoch 36: Train Loss = 1.2913, Val Loss = 1.2729, Val Accuracy = 0.4163\n",
            "Epoch 37: Train Loss = 1.2864, Val Loss = 1.2678, Val Accuracy = 0.4199\n",
            "Epoch 38: Train Loss = 1.2803, Val Loss = 1.2633, Val Accuracy = 0.4229\n",
            "Epoch 39: Train Loss = 1.2762, Val Loss = 1.2586, Val Accuracy = 0.4267\n",
            "Epoch 40: Train Loss = 1.2736, Val Loss = 1.2546, Val Accuracy = 0.4288\n",
            "Epoch 41: Train Loss = 1.2692, Val Loss = 1.2506, Val Accuracy = 0.4336\n",
            "Epoch 42: Train Loss = 1.2663, Val Loss = 1.2470, Val Accuracy = 0.4389\n",
            "Epoch 43: Train Loss = 1.2627, Val Loss = 1.2432, Val Accuracy = 0.4396\n",
            "Epoch 44: Train Loss = 1.2563, Val Loss = 1.2394, Val Accuracy = 0.4438\n",
            "Epoch 45: Train Loss = 1.2557, Val Loss = 1.2358, Val Accuracy = 0.4467\n",
            "Epoch 46: Train Loss = 1.2521, Val Loss = 1.2325, Val Accuracy = 0.4479\n",
            "Epoch 47: Train Loss = 1.2483, Val Loss = 1.2293, Val Accuracy = 0.4508\n",
            "Epoch 48: Train Loss = 1.2457, Val Loss = 1.2259, Val Accuracy = 0.4529\n",
            "Epoch 49: Train Loss = 1.2406, Val Loss = 1.2224, Val Accuracy = 0.4554\n",
            "Epoch 50: Train Loss = 1.2384, Val Loss = 1.2194, Val Accuracy = 0.4592\n",
            "\n",
            "Deep Neural Network Training Completed.\n",
            "Best Validation Accuracy (Deep): 0.4592\n",
            "Final Validation Accuracy (Deep): 0.4592\n"
          ]
        }
      ],
      "source": [
        "# Hyperparameters for the deep model\n",
        "deep_embed_size = 64\n",
        "deep_hidden_size = 64\n",
        "num_epochs_deep = 50      # Use the same number of epochs for comparison; adjust as needed\n",
        "learning_rate_deep = 0.01 # Lower the learning rate for deep nn\n",
        "dropout_rate = 0.2\n",
        "\n",
        "# Instantiate the deep neural network model\n",
        "deep_model = DeepNeuralClassifier(\n",
        "    vocab_size=len(vocab),\n",
        "    embed_size=deep_embed_size,\n",
        "    hidden_size=deep_hidden_size,\n",
        "    num_classes=num_classes,\n",
        "    dropout_rate=dropout_rate)\n",
        "\n",
        "# Use SGD optimizer for deep model\n",
        "optimizer_deep = torch.optim.SGD(deep_model.parameters(), lr=learning_rate_deep)\n",
        "\n",
        "# Record training progress for deep model\n",
        "deep_train_losses = []\n",
        "deep_val_losses = []\n",
        "deep_val_accuracies = []\n",
        "\n",
        "print(\"\\n### Training Deep Neural Network Classifier ###\\n\")\n",
        "for epoch in range(1, num_epochs_deep + 1):\n",
        "\n",
        "    # 1. Train for one epoch\n",
        "    epoch_loss = 0.0\n",
        "    for batch in train_loader:\n",
        "        loss = train_batch(batch, deep_model, optimizer_deep)\n",
        "        epoch_loss += loss\n",
        "\n",
        "    # 2. Compute average training loss for this epoch\n",
        "    avg_train_loss = epoch_loss / len(train_loader)\n",
        "    deep_train_losses.append(avg_train_loss)\n",
        "\n",
        "    # 3. Evaluate on the test/validation set\n",
        "    val_loss, val_acc = evaluate(test_loader, deep_model)\n",
        "    deep_val_losses.append(val_loss)\n",
        "    deep_val_accuracies.append(val_acc)\n",
        "\n",
        "    # 4. Print a single summary line for this epoch\n",
        "    print(f\"Epoch {epoch}: Train Loss = {avg_train_loss:.4f}, Val Loss = {val_loss:.4f}, Val Accuracy = {val_acc:.4f}\")\n",
        "\n",
        "best_deep_acc = max(deep_val_accuracies)\n",
        "final_deep_acc = deep_val_accuracies[-1]\n",
        "\n",
        "print(\"\\nDeep Neural Network Training Completed.\")\n",
        "print(f\"Best Validation Accuracy (Deep): {best_deep_acc:.4f}\")\n",
        "print(f\"Final Validation Accuracy (Deep): {final_deep_acc:.4f}\")\n"
      ]
    },
    {
      "cell_type": "code",
      "execution_count": null,
      "metadata": {
        "colab": {
          "base_uri": "https://localhost:8080/"
        },
        "id": "varf5hmIN3CL",
        "outputId": "5c099980-402c-4093-bfa3-e787335c03b1"
      },
      "outputs": [
        {
          "name": "stdout",
          "output_type": "stream",
          "text": [
            "Comparison of Neural Network Models:\n",
            "         Model  Best Val Accuracy  Final Val Accuracy\n",
            "0  Original NN           0.564342            0.563421\n",
            "1      Deep NN           0.459211            0.459211\n"
          ]
        }
      ],
      "source": [
        "import pandas as pd\n",
        "\n",
        "comparison_data = {\n",
        "    \"Model\": [\"Original NN\", \"Deep NN\"],\n",
        "    \"Best Val Accuracy\": [best_nn_acc, best_deep_acc],\n",
        "    \"Final Val Accuracy\": [final_nn_acc, final_deep_acc]\n",
        "}\n",
        "comparison_df = pd.DataFrame(comparison_data)\n",
        "print(\"Comparison of Neural Network Models:\")\n",
        "print(comparison_df)"
      ]
    },
    {
      "cell_type": "markdown",
      "metadata": {
        "id": "x9VvQi2EUAEP"
      },
      "source": [
        "## 3.5 - Visualization and Summary\n",
        "We plot the training and validation loss curves. In addition, note that evaluation metrics such as precision, recall, and F1-score (as well as a confusion matrix) should be computed for a thorough evaluation. For language model-based approaches, perplexity would also be computed.\n"
      ]
    },
    {
      "cell_type": "code",
      "execution_count": null,
      "metadata": {
        "colab": {
          "base_uri": "https://localhost:8080/",
          "height": 487
        },
        "id": "0F0bMHLxi_z_",
        "outputId": "0891bc4f-ba1c-4e31-9bd4-34d094598374"
      },
      "outputs": [
        {
          "data": {
            "image/png": "[encoded data removed]",
            "text/plain": [
              "<Figure size 800x500 with 1 Axes>"
            ]
          },
          "metadata": {},
          "output_type": "display_data"
        }
      ],
      "source": [
        "plt.figure(figsize=(8, 5))\n",
        "plt.plot(range(1, num_epochs+1), train_losses, color=\"red\", label=\"Training Loss\")\n",
        "plt.plot(range(1, num_epochs+1), val_losses, color=\"blue\", label=\"Validation Loss\")\n",
        "\n",
        "plt.plot(range(1, num_epochs+1), deep_train_losses, color=\"green\", label=\"Training Loss-DeepNeuralNetwork\")\n",
        "plt.plot(range(1, num_epochs+1), deep_val_losses, color=\"black\", label=\"Validation Loss-DeepNeuralNetwork\")\n",
        "\n",
        "plt.xlabel(\"Epoch\")\n",
        "plt.ylabel(\"Loss\")\n",
        "plt.title(\"Training vs. Validation Loss\")\n",
        "plt.legend()\n",
        "plt.show()"
      ]
    },
    {
      "cell_type": "markdown",
      "metadata": {
        "id": "9s17oFTJjdQR"
      },
      "source": [
        "# 4 - Additional Experiments and Quantitative Analysis\n",
        "This section performs further analysis on the dataset:\n",
        "1. Plotting the frequency distribution of words (to check Zipf’s law).\n",
        "2. Generating word embeddings using Word2Vec and displaying similar words.\n",
        "3. Summarizing performance metrics in a table."
      ]
    },
    {
      "cell_type": "markdown",
      "metadata": {
        "id": "hokGDq2tjwfn"
      },
      "source": [
        "## 4.1 - Frequency Distribution Plot"
      ]
    },
    {
      "cell_type": "code",
      "execution_count": null,
      "metadata": {
        "id": "za6b1IZWj1RR"
      },
      "outputs": [],
      "source": [
        "# Flatten all tokens from training texts (using simple whitespace split)\n",
        "all_tokens = []\n",
        "for text in train_texts:\n",
        "    all_tokens.extend(text.lower().split())\n",
        "\n",
        "token_counts = Counter(all_tokens)\n",
        "\n",
        "# Sort tokens by frequency\n",
        "sorted_counts = sorted(token_counts.items(), key=lambda x: x[1], reverse=True)\n",
        "tokens, frequencies = zip(*sorted_counts)\n",
        "\n",
        "# Plot rank-frequency (log-log scale)\n",
        "ranks = range(1, len(frequencies) + 1)\n",
        "\n",
        "plt.figure(figsize=(8, 5))\n",
        "plt.loglog(ranks, frequencies, marker=\".\")\n",
        "plt.xlabel(\"Rank\")\n",
        "plt.ylabel(\"Frequency\")\n",
        "plt.title(\"Word Frequency Distribution (Zipf's Law)\")\n",
        "plt.show()"
      ]
    },
    {
      "cell_type": "markdown",
      "metadata": {
        "id": "9p86lD-2LSPC"
      },
      "source": [
        "Frequency INVERSLY PROPORTIONAL to Rank\n",
        "\n",
        "Hence, model follows Zipf's Law"
      ]
    },
    {
      "cell_type": "markdown",
      "metadata": {
        "id": "JAC4I-rskieg"
      },
      "source": [
        "##4.2 Word Embeddings using Word2Vec"
      ]
    },
    {
      "cell_type": "code",
      "execution_count": null,
      "metadata": {
        "id": "yFoxlWBPkqVy"
      },
      "outputs": [],
      "source": [
        "!pip install gensim"
      ]
    },
    {
      "cell_type": "code",
      "execution_count": null,
      "metadata": {
        "id": "my2-hFuikmu8"
      },
      "outputs": [],
      "source": [
        "from gensim.models import Word2Vec\n",
        "\n",
        "# Tokenize the training texts (simple whitespace split)\n",
        "tokenized_texts = [text.lower().split() for text in train_texts]\n",
        "\n",
        "# Train Word2Vec model (using a small dimension for demonstration)\n",
        "w2v_model = Word2Vec(sentences=tokenized_texts, vector_size=50, window=5, min_count=3, workers=4, seed=42)\n",
        "\n",
        "# Display top 5 similar words for selected keywords\n",
        "keywords = [\"economy\", \"games\", \"technology\", \"market\"]\n",
        "for word in keywords:\n",
        "    if word in w2v_model.wv:\n",
        "        similar = w2v_model.wv.most_similar(word, topn=5)\n",
        "        print(f\"\\nTop similar words to '{word}':\")\n",
        "        for sim_word, score in similar:\n",
        "            print(f\"  {sim_word}: {score:.4f}\")\n",
        "    else:\n",
        "        print(f\"\\n'{word}' not found in vocabulary.\")\n"
      ]
    },
    {
      "cell_type": "markdown",
      "metadata": {
        "id": "tPgOZic9mdH3"
      },
      "source": [
        "## 4.3 Performance Comparison Table"
      ]
    },
    {
      "cell_type": "code",
      "execution_count": null,
      "metadata": {
        "id": "ww5_VHS5miop"
      },
      "outputs": [],
      "source": [
        "# Create a summary table for performance metrics\n",
        "import pandas as pd\n",
        "\n",
        "# We have baseline (lr_reg) and neural network (model_nn) performance metrics.\n",
        "# Here we use the test accuracy from earlier experiments.\n",
        "performance_data = {\n",
        "    \"Model\": [\"Logistic Regression (With Reg)\", \"Neural Network\"],\n",
        "    \"Test Accuracy\": [test_acc_reg, val_accuracies[-1]]\n",
        "}\n",
        "\n",
        "performance_df = pd.DataFrame(performance_data)\n",
        "print(\"Performance Comparison:\")\n",
        "print(performance_df)"
      ]
    },
    {
      "cell_type": "markdown",
      "metadata": {
        "id": "hvy6iMKimqJ7"
      },
      "source": [
        "# 5 - Error Analysis\n",
        "Below, we discuss examples where the models fail. For instance, consider headlines that are misclassified by the baseline model.\n"
      ]
    },
    {
      "cell_type": "code",
      "execution_count": null,
      "metadata": {
        "id": "Ga8EDBSlmzjy"
      },
      "outputs": [],
      "source": [
        "# For demonstration, print 5 misclassified examples from logistic regression with regularization\n",
        "misclassified = []\n",
        "for text, true_label, pred_label in zip(test_texts, test_labels, test_preds_reg):\n",
        "    if true_label != pred_label:\n",
        "        misclassified.append((text, true_label, pred_label))\n",
        "    if len(misclassified) >= 5:\n",
        "        break\n",
        "\n",
        "print(\"Examples of Misclassified Headlines (Logistic Regression with Reg):\")\n",
        "for idx, (text, true_label, pred_label) in enumerate(misclassified, start=1):\n",
        "    print(f\"\\nExample {idx}:\")\n",
        "    print(f\"Headline: {text}\")\n",
        "    print(f\"True Label: {true_label} ({label_names[true_label]})\")\n",
        "    print(f\"Predicted Label: {pred_label} ({label_names[pred_label]})\")"
      ]
    },
    {
      "cell_type": "markdown",
      "metadata": {
        "id": "IGxzjR7YKg9-"
      },
      "source": [
        "# Add more models here\n",
        "\n",
        "Compare our models with models that are already in the market e.g. XGBOOST, RandomForest\n",
        "\n",
        "Find standard/best methods to report results"
      ]
    },
    {
      "cell_type": "code",
      "execution_count": null,
      "metadata": {
        "id": "0KHZwvAhx-jd"
      },
      "outputs": [],
      "source": [
        "# Define label mapping\n",
        "label_mapping = {0: \"World\", 1: \"Sports\", 2: \"Business\", 3: \"Sci/Tech\"}\n",
        "\n",
        "# Input: Manually enter a headline\n",
        "headline = \"Local sports team wins championship in a stunning upset\"\n",
        "print(f\"Headline: {headline}\\n\")\n",
        "\n",
        "\n",
        "# -------------------------------------------------------------------------------------------------------\n",
        "\n",
        "# ---- Baseline Prediction using Logistic Regression ----\n",
        "# Vectorize the headline using the previously fitted CountVectorizer\n",
        "X_input = vectorizer.transform([headline])\n",
        "\n",
        "# Get probability estimates\n",
        "probs_baseline = lr_reg.predict_proba(X_input)[0]\n",
        "\n",
        "# Determine the predicted label and confidence\n",
        "pred_label_baseline = lr_reg.predict(X_input)[0]\n",
        "confidence_baseline = np.max(probs_baseline) * 100\n",
        "\n",
        "print(\"Baseline Logistic Regression:\")\n",
        "print(f\" Predicted Label: {pred_label_baseline}: {label_mapping[pred_label_baseline]}\")\n",
        "print(f\" Confidence: {confidence_baseline:.2f}%\")\n",
        "print()\n",
        "\n",
        "# -------------------------------------------------------------------------------------------------------\n",
        "\n",
        "# ---- Neural Network Prediction ----\n",
        "# Tokenize the headline using our custom function\n",
        "indices = tokenize_text(headline)\n",
        "# Pad or truncate the sequence to max_seq_len\n",
        "if len(indices) < max_seq_len:\n",
        "    indices = indices + [pad_idx] * (max_seq_len - len(indices))\n",
        "else:\n",
        "    indices = indices[:max_seq_len]\n",
        "# Convert to a torch tensor and add batch dimension\n",
        "input_tensor = torch.tensor([indices], dtype=torch.long)\n",
        "\n",
        "# Predict with the neural network\n",
        "model_nn.eval()\n",
        "with torch.no_grad():\n",
        "    logits = model_nn(input_tensor)\n",
        "    # Apply softmax to obtain probability distribution\n",
        "    probs_nn = F.softmax(logits, dim=1)[0]\n",
        "    pred_label_nn = torch.argmax(probs_nn).item()\n",
        "    confidence_nn = probs_nn[pred_label_nn].item() * 100\n",
        "\n",
        "print(\"Neural Network Classifier:\")\n",
        "print(f\" Predicted Label: {pred_label_nn}: {label_mapping[pred_label_nn]}\")\n",
        "print(f\" Confidence: {confidence_nn:.2f}%\")\n"
      ]
    },
    {
      "cell_type": "markdown",
      "metadata": {
        "id": "WdRiAbXcJQWV"
      },
      "source": [
        "# 8 - LSTM Approach 2\n"
      ]
    },
    {
      "cell_type": "markdown",
      "metadata": {
        "id": "fGGsNNwsJTIV"
      },
      "source": [
        "## 8.1 - Data Preprocessing\n",
        "\n",
        "Here we load the required libraries we will be using for the LSTM model implementation, and pre process the data"
      ]
    },
    {
      "cell_type": "code",
      "execution_count": 42,
      "metadata": {
        "colab": {
          "base_uri": "https://localhost:8080/"
        },
        "collapsed": true,
        "id": "JT78Rj96JWZJ",
        "outputId": "0f1dda6d-11eb-4b5f-e1c8-8f02846b34f0"
      },
      "outputs": [
        {
          "name": "stdout",
          "output_type": "stream",
          "text": [
            "Requirement already satisfied: tensorflow in /usr/local/lib/python3.11/dist-packages (2.18.0)\n",
            "Requirement already satisfied: absl-py>=1.0.0 in /usr/local/lib/python3.11/dist-packages (from tensorflow) (1.4.0)\n",
            "Requirement already satisfied: astunparse>=1.6.0 in /usr/local/lib/python3.11/dist-packages (from tensorflow) (1.6.3)\n",
            "Requirement already satisfied: flatbuffers>=24.3.25 in /usr/local/lib/python3.11/dist-packages (from tensorflow) (25.2.10)\n",
            "Requirement already satisfied: gast!=0.5.0,!=0.5.1,!=0.5.2,>=0.2.1 in /usr/local/lib/python3.11/dist-packages (from tensorflow) (0.6.0)\n",
            "Requirement already satisfied: google-pasta>=0.1.1 in /usr/local/lib/python3.11/dist-packages (from tensorflow) (0.2.0)\n",
            "Requirement already satisfied: libclang>=13.0.0 in /usr/local/lib/python3.11/dist-packages (from tensorflow) (18.1.1)\n",
            "Requirement already satisfied: opt-einsum>=2.3.2 in /usr/local/lib/python3.11/dist-packages (from tensorflow) (3.4.0)\n",
            "Requirement already satisfied: packaging in /usr/local/lib/python3.11/dist-packages (from tensorflow) (24.2)\n",
            "Requirement already satisfied: protobuf!=4.21.0,!=4.21.1,!=4.21.2,!=4.21.3,!=4.21.4,!=4.21.5,<6.0.0dev,>=3.20.3 in /usr/local/lib/python3.11/dist-packages (from tensorflow) (5.29.4)\n",
            "Requirement already satisfied: requests<3,>=2.21.0 in /usr/local/lib/python3.11/dist-packages (from tensorflow) (2.32.3)\n",
            "Requirement already satisfied: setuptools in /usr/local/lib/python3.11/dist-packages (from tensorflow) (75.2.0)\n",
            "Requirement already satisfied: six>=1.12.0 in /usr/local/lib/python3.11/dist-packages (from tensorflow) (1.17.0)\n",
            "Requirement already satisfied: termcolor>=1.1.0 in /usr/local/lib/python3.11/dist-packages (from tensorflow) (3.0.1)\n",
            "Requirement already satisfied: typing-extensions>=3.6.6 in /usr/local/lib/python3.11/dist-packages (from tensorflow) (4.13.0)\n",
            "Requirement already satisfied: wrapt>=1.11.0 in /usr/local/lib/python3.11/dist-packages (from tensorflow) (1.17.2)\n",
            "Requirement already satisfied: grpcio<2.0,>=1.24.3 in /usr/local/lib/python3.11/dist-packages (from tensorflow) (1.71.0)\n",
            "Requirement already satisfied: tensorboard<2.19,>=2.18 in /usr/local/lib/python3.11/dist-packages (from tensorflow) (2.18.0)\n",
            "Requirement already satisfied: keras>=3.5.0 in /usr/local/lib/python3.11/dist-packages (from tensorflow) (3.8.0)\n",
            "Requirement already satisfied: numpy<2.1.0,>=1.26.0 in /usr/local/lib/python3.11/dist-packages (from tensorflow) (1.26.4)\n",
            "Requirement already satisfied: h5py>=3.11.0 in /usr/local/lib/python3.11/dist-packages (from tensorflow) (3.13.0)\n",
            "Requirement already satisfied: ml-dtypes<0.5.0,>=0.4.0 in /usr/local/lib/python3.11/dist-packages (from tensorflow) (0.4.1)\n",
            "Requirement already satisfied: tensorflow-io-gcs-filesystem>=0.23.1 in /usr/local/lib/python3.11/dist-packages (from tensorflow) (0.37.1)\n",
            "Requirement already satisfied: wheel<1.0,>=0.23.0 in /usr/local/lib/python3.11/dist-packages (from astunparse>=1.6.0->tensorflow) (0.45.1)\n",
            "Requirement already satisfied: rich in /usr/local/lib/python3.11/dist-packages (from keras>=3.5.0->tensorflow) (13.9.4)\n",
            "Requirement already satisfied: namex in /usr/local/lib/python3.11/dist-packages (from keras>=3.5.0->tensorflow) (0.0.8)\n",
            "Requirement already satisfied: optree in /usr/local/lib/python3.11/dist-packages (from keras>=3.5.0->tensorflow) (0.14.1)\n",
            "Requirement already satisfied: charset-normalizer<4,>=2 in /usr/local/lib/python3.11/dist-packages (from requests<3,>=2.21.0->tensorflow) (3.4.1)\n",
            "Requirement already satisfied: idna<4,>=2.5 in /usr/local/lib/python3.11/dist-packages (from requests<3,>=2.21.0->tensorflow) (3.10)\n",
            "Requirement already satisfied: urllib3<3,>=1.21.1 in /usr/local/lib/python3.11/dist-packages (from requests<3,>=2.21.0->tensorflow) (2.3.0)\n",
            "Requirement already satisfied: certifi>=2017.4.17 in /usr/local/lib/python3.11/dist-packages (from requests<3,>=2.21.0->tensorflow) (2025.1.31)\n",
            "Requirement already satisfied: markdown>=2.6.8 in /usr/local/lib/python3.11/dist-packages (from tensorboard<2.19,>=2.18->tensorflow) (3.7)\n",
            "Requirement already satisfied: tensorboard-data-server<0.8.0,>=0.7.0 in /usr/local/lib/python3.11/dist-packages (from tensorboard<2.19,>=2.18->tensorflow) (0.7.2)\n",
            "Requirement already satisfied: werkzeug>=1.0.1 in /usr/local/lib/python3.11/dist-packages (from tensorboard<2.19,>=2.18->tensorflow) (3.1.3)\n",
            "Requirement already satisfied: MarkupSafe>=2.1.1 in /usr/local/lib/python3.11/dist-packages (from werkzeug>=1.0.1->tensorboard<2.19,>=2.18->tensorflow) (3.0.2)\n",
            "Requirement already satisfied: markdown-it-py>=2.2.0 in /usr/local/lib/python3.11/dist-packages (from rich->keras>=3.5.0->tensorflow) (3.0.0)\n",
            "Requirement already satisfied: pygments<3.0.0,>=2.13.0 in /usr/local/lib/python3.11/dist-packages (from rich->keras>=3.5.0->tensorflow) (2.18.0)\n",
            "Requirement already satisfied: mdurl~=0.1 in /usr/local/lib/python3.11/dist-packages (from markdown-it-py>=2.2.0->rich->keras>=3.5.0->tensorflow) (0.1.2)\n",
            "Requirement already satisfied: torch in /usr/local/lib/python3.11/dist-packages (2.6.0+cu124)\n",
            "Requirement already satisfied: filelock in /usr/local/lib/python3.11/dist-packages (from torch) (3.18.0)\n",
            "Requirement already satisfied: typing-extensions>=4.10.0 in /usr/local/lib/python3.11/dist-packages (from torch) (4.13.0)\n",
            "Requirement already satisfied: networkx in /usr/local/lib/python3.11/dist-packages (from torch) (3.4.2)\n",
            "Requirement already satisfied: jinja2 in /usr/local/lib/python3.11/dist-packages (from torch) (3.1.6)\n",
            "Requirement already satisfied: fsspec in /usr/local/lib/python3.11/dist-packages (from torch) (2024.12.0)\n",
            "Requirement already satisfied: nvidia-cuda-nvrtc-cu12==12.4.127 in /usr/local/lib/python3.11/dist-packages (from torch) (12.4.127)\n",
            "Requirement already satisfied: nvidia-cuda-runtime-cu12==12.4.127 in /usr/local/lib/python3.11/dist-packages (from torch) (12.4.127)\n",
            "Requirement already satisfied: nvidia-cuda-cupti-cu12==12.4.127 in /usr/local/lib/python3.11/dist-packages (from torch) (12.4.127)\n",
            "Requirement already satisfied: nvidia-cudnn-cu12==9.1.0.70 in /usr/local/lib/python3.11/dist-packages (from torch) (9.1.0.70)\n",
            "Requirement already satisfied: nvidia-cublas-cu12==12.4.5.8 in /usr/local/lib/python3.11/dist-packages (from torch) (12.4.5.8)\n",
            "Requirement already satisfied: nvidia-cufft-cu12==11.2.1.3 in /usr/local/lib/python3.11/dist-packages (from torch) (11.2.1.3)\n",
            "Requirement already satisfied: nvidia-curand-cu12==10.3.5.147 in /usr/local/lib/python3.11/dist-packages (from torch) (10.3.5.147)\n",
            "Requirement already satisfied: nvidia-cusolver-cu12==11.6.1.9 in /usr/local/lib/python3.11/dist-packages (from torch) (11.6.1.9)\n",
            "Requirement already satisfied: nvidia-cusparse-cu12==12.3.1.170 in /usr/local/lib/python3.11/dist-packages (from torch) (12.3.1.170)\n",
            "Requirement already satisfied: nvidia-cusparselt-cu12==0.6.2 in /usr/local/lib/python3.11/dist-packages (from torch) (0.6.2)\n",
            "Requirement already satisfied: nvidia-nccl-cu12==2.21.5 in /usr/local/lib/python3.11/dist-packages (from torch) (2.21.5)\n",
            "Requirement already satisfied: nvidia-nvtx-cu12==12.4.127 in /usr/local/lib/python3.11/dist-packages (from torch) (12.4.127)\n",
            "Requirement already satisfied: nvidia-nvjitlink-cu12==12.4.127 in /usr/local/lib/python3.11/dist-packages (from torch) (12.4.127)\n",
            "Requirement already satisfied: triton==3.2.0 in /usr/local/lib/python3.11/dist-packages (from torch) (3.2.0)\n",
            "Requirement already satisfied: sympy==1.13.1 in /usr/local/lib/python3.11/dist-packages (from torch) (1.13.1)\n",
            "Requirement already satisfied: mpmath<1.4,>=1.1.0 in /usr/local/lib/python3.11/dist-packages (from sympy==1.13.1->torch) (1.3.0)\n",
            "Requirement already satisfied: MarkupSafe>=2.0 in /usr/local/lib/python3.11/dist-packages (from jinja2->torch) (3.0.2)\n",
            "Collecting torchtext\n",
            "  Downloading torchtext-0.18.0-cp311-cp311-manylinux1_x86_64.whl.metadata (7.9 kB)\n",
            "Requirement already satisfied: tqdm in /usr/local/lib/python3.11/dist-packages (from torchtext) (4.67.1)\n",
            "Requirement already satisfied: requests in /usr/local/lib/python3.11/dist-packages (from torchtext) (2.32.3)\n",
            "Requirement already satisfied: torch>=2.3.0 in /usr/local/lib/python3.11/dist-packages (from torchtext) (2.6.0+cu124)\n",
            "Requirement already satisfied: numpy in /usr/local/lib/python3.11/dist-packages (from torchtext) (1.26.4)\n",
            "Requirement already satisfied: filelock in /usr/local/lib/python3.11/dist-packages (from torch>=2.3.0->torchtext) (3.18.0)\n",
            "Requirement already satisfied: typing-extensions>=4.10.0 in /usr/local/lib/python3.11/dist-packages (from torch>=2.3.0->torchtext) (4.13.0)\n",
            "Requirement already satisfied: networkx in /usr/local/lib/python3.11/dist-packages (from torch>=2.3.0->torchtext) (3.4.2)\n",
            "Requirement already satisfied: jinja2 in /usr/local/lib/python3.11/dist-packages (from torch>=2.3.0->torchtext) (3.1.6)\n",
            "Requirement already satisfied: fsspec in /usr/local/lib/python3.11/dist-packages (from torch>=2.3.0->torchtext) (2024.12.0)\n",
            "Requirement already satisfied: nvidia-cuda-nvrtc-cu12==12.4.127 in /usr/local/lib/python3.11/dist-packages (from torch>=2.3.0->torchtext) (12.4.127)\n",
            "Requirement already satisfied: nvidia-cuda-runtime-cu12==12.4.127 in /usr/local/lib/python3.11/dist-packages (from torch>=2.3.0->torchtext) (12.4.127)\n",
            "Requirement already satisfied: nvidia-cuda-cupti-cu12==12.4.127 in /usr/local/lib/python3.11/dist-packages (from torch>=2.3.0->torchtext) (12.4.127)\n",
            "Requirement already satisfied: nvidia-cudnn-cu12==9.1.0.70 in /usr/local/lib/python3.11/dist-packages (from torch>=2.3.0->torchtext) (9.1.0.70)\n",
            "Requirement already satisfied: nvidia-cublas-cu12==12.4.5.8 in /usr/local/lib/python3.11/dist-packages (from torch>=2.3.0->torchtext) (12.4.5.8)\n",
            "Requirement already satisfied: nvidia-cufft-cu12==11.2.1.3 in /usr/local/lib/python3.11/dist-packages (from torch>=2.3.0->torchtext) (11.2.1.3)\n",
            "Requirement already satisfied: nvidia-curand-cu12==10.3.5.147 in /usr/local/lib/python3.11/dist-packages (from torch>=2.3.0->torchtext) (10.3.5.147)\n",
            "Requirement already satisfied: nvidia-cusolver-cu12==11.6.1.9 in /usr/local/lib/python3.11/dist-packages (from torch>=2.3.0->torchtext) (11.6.1.9)\n",
            "Requirement already satisfied: nvidia-cusparse-cu12==12.3.1.170 in /usr/local/lib/python3.11/dist-packages (from torch>=2.3.0->torchtext) (12.3.1.170)\n",
            "Requirement already satisfied: nvidia-cusparselt-cu12==0.6.2 in /usr/local/lib/python3.11/dist-packages (from torch>=2.3.0->torchtext) (0.6.2)\n",
            "Requirement already satisfied: nvidia-nccl-cu12==2.21.5 in /usr/local/lib/python3.11/dist-packages (from torch>=2.3.0->torchtext) (2.21.5)\n",
            "Requirement already satisfied: nvidia-nvtx-cu12==12.4.127 in /usr/local/lib/python3.11/dist-packages (from torch>=2.3.0->torchtext) (12.4.127)\n",
            "Requirement already satisfied: nvidia-nvjitlink-cu12==12.4.127 in /usr/local/lib/python3.11/dist-packages (from torch>=2.3.0->torchtext) (12.4.127)\n",
            "Requirement already satisfied: triton==3.2.0 in /usr/local/lib/python3.11/dist-packages (from torch>=2.3.0->torchtext) (3.2.0)\n",
            "Requirement already satisfied: sympy==1.13.1 in /usr/local/lib/python3.11/dist-packages (from torch>=2.3.0->torchtext) (1.13.1)\n",
            "Requirement already satisfied: mpmath<1.4,>=1.1.0 in /usr/local/lib/python3.11/dist-packages (from sympy==1.13.1->torch>=2.3.0->torchtext) (1.3.0)\n",
            "Requirement already satisfied: charset-normalizer<4,>=2 in /usr/local/lib/python3.11/dist-packages (from requests->torchtext) (3.4.1)\n",
            "Requirement already satisfied: idna<4,>=2.5 in /usr/local/lib/python3.11/dist-packages (from requests->torchtext) (3.10)\n",
            "Requirement already satisfied: urllib3<3,>=1.21.1 in /usr/local/lib/python3.11/dist-packages (from requests->torchtext) (2.3.0)\n",
            "Requirement already satisfied: certifi>=2017.4.17 in /usr/local/lib/python3.11/dist-packages (from requests->torchtext) (2025.1.31)\n",
            "Requirement already satisfied: MarkupSafe>=2.0 in /usr/local/lib/python3.11/dist-packages (from jinja2->torch>=2.3.0->torchtext) (3.0.2)\n",
            "Downloading torchtext-0.18.0-cp311-cp311-manylinux1_x86_64.whl (2.0 MB)\n",
            "\u001b[2K   \u001b[90m━━━━━━━━━━━━━━━━━━━━━━━━━━━━━━━━━━━━━━━━\u001b[0m \u001b[32m2.0/2.0 MB\u001b[0m \u001b[31m18.9 MB/s\u001b[0m eta \u001b[36m0:00:00\u001b[0m\n",
            "\u001b[?25hInstalling collected packages: torchtext\n",
            "Successfully installed torchtext-0.18.0\n",
            "Requirement already satisfied: tqdm in /usr/local/lib/python3.11/dist-packages (4.67.1)\n"
          ]
        }
      ],
      "source": [
        "!pip install tensorflow\n",
        "!pip install torch\n",
        "!pip install torchtext\n",
        "\n",
        "!pip install tqdm"
      ]
    },
    {
      "cell_type": "code",
      "execution_count": 43,
      "metadata": {
        "id": "9eKd68EOJXB8"
      },
      "outputs": [],
      "source": [
        "import torch\n",
        "import torch.nn as nn\n",
        "import torch.optim as optim\n",
        "import torch.nn.functional as F\n",
        "from torch.utils.data import Dataset, DataLoader\n",
        "import numpy as np\n",
        "import pandas as pd\n",
        "import random\n",
        "\n",
        "from collections import Counter\n",
        "import matplotlib.pyplot as plt\n",
        "from datasets import load_dataset\n",
        "from sklearn.metrics import accuracy_score, classification_report, confusion_matrix\n",
        "from sklearn.model_selection import train_test_split"
      ]
    },
    {
      "cell_type": "code",
      "execution_count": 44,
      "metadata": {
        "colab": {
          "base_uri": "https://localhost:8080/"
        },
        "id": "Ig-W-EggKGMj",
        "outputId": "ffc2c755-8015-44b1-dd33-b037b2f5d0c2"
      },
      "outputs": [
        {
          "name": "stdout",
          "output_type": "stream",
          "text": [
            "Training Set Label Distribution: label\n",
            "2    30000\n",
            "3    30000\n",
            "1    30000\n",
            "0    30000\n",
            "Name: count, dtype: int64\n",
            "Testing Set Label Distribution: label\n",
            "2    1900\n",
            "3    1900\n",
            "1    1900\n",
            "0    1900\n",
            "Name: count, dtype: int64\n",
            "Using 30000 training examples for experiments.\n"
          ]
        }
      ],
      "source": [
        "# Load the AG News dataset from Hugging Face\n",
        "dataset = load_dataset(\"fancyzhx/ag_news\")\n",
        "\n",
        "# Convert the train and test datasets to pandas DataFrames\n",
        "df_train = pd.DataFrame(dataset['train'])\n",
        "df_test = pd.DataFrame(dataset['test'])\n",
        "\n",
        "# Print basic dataset info\n",
        "print(\"Training Set Label Distribution:\", df_train['label'].value_counts())\n",
        "print(\"Testing Set Label Distribution:\", df_test['label'].value_counts())\n",
        "\n",
        "# Extract texts and labels (we are using the full set here; optionally, you could slice)\n",
        "train_texts = [example[\"text\"] for example in dataset[\"train\"]]\n",
        "train_labels = [example[\"label\"] for example in dataset[\"train\"]]\n",
        "\n",
        "test_texts = [example[\"text\"] for example in dataset[\"test\"]]\n",
        "test_labels = [example[\"label\"] for example in dataset[\"test\"]]\n",
        "\n",
        "# Slicing the dataset to 30k rows\n",
        "random.seed(42)\n",
        "\n",
        "indices = list(range(len(train_texts)))\n",
        "random.shuffle(indices)\n",
        "\n",
        "slice_indices = indices[:30000]  # Select 30k rows (approx. 25%)\n",
        "\n",
        "train_texts = [train_texts[i] for i in slice_indices]\n",
        "train_labels = [train_labels[i] for i in slice_indices]\n",
        "\n",
        "print(f\"Using {len(train_texts)} training examples for experiments.\")\n"
      ]
    },
    {
      "cell_type": "markdown",
      "metadata": {
        "id": "-jchIYDCKKLG"
      },
      "source": [
        "## 8.2 - Tokenization and Text Preprocessing\n",
        "\n",
        "In this step, we will tokenize the text data, build a vocabulary, and convert the texts into sequences of indices."
      ]
    },
    {
      "cell_type": "code",
      "execution_count": 45,
      "metadata": {
        "id": "Z1XwNPDhKL61"
      },
      "outputs": [],
      "source": [
        "def tokenize_text(text):\n",
        "    return text.lower().split()\n",
        "\n",
        "# Build vocabulary from training texts\n",
        "all_tokens = []\n",
        "for text in train_texts:\n",
        "    all_tokens.extend(tokenize_text(text))\n",
        "token_counts = Counter(all_tokens)\n",
        "\n",
        "# Create a mapping from token to index (start indexing at 1, reserve 0 for padding)\n",
        "vocab = {word: idx+1 for idx, (word, _) in enumerate(token_counts.items())}\n",
        "vocab_size = len(vocab) + 1  # Adding 1 for the padding token (index 0)\n",
        "pad_idx = 0  # Padding token index\n",
        "\n",
        "# Convert texts to sequences of indices\n",
        "def text_to_indices(text):\n",
        "    return [vocab.get(word, 0) for word in tokenize_text(text)]  # Use 0 for unknown words\n",
        "\n",
        "train_texts_idx = [text_to_indices(text) for text in train_texts]\n",
        "test_texts_idx = [text_to_indices(text) for text in test_texts]\n"
      ]
    },
    {
      "cell_type": "markdown",
      "metadata": {
        "id": "SuLRAQovKUhv"
      },
      "source": [
        "## 8.3 - Define the Custom Dataset Classes"
      ]
    },
    {
      "cell_type": "code",
      "execution_count": 46,
      "metadata": {
        "id": "81CFG-e4KTBs"
      },
      "outputs": [],
      "source": [
        "# Use 'max_seq_len' instead of 'max_len' for consistency\n",
        "max_seq_len = 100  # Maximum length of input sequence\n",
        "\n",
        "class NewsDataset(Dataset):\n",
        "    def __init__(self, texts, labels, max_seq_len):\n",
        "        self.texts = texts\n",
        "        self.labels = labels\n",
        "        self.max_seq_len = max_seq_len\n",
        "\n",
        "    def __len__(self):\n",
        "        return len(self.texts)\n",
        "\n",
        "    def __getitem__(self, idx):\n",
        "        # Pad or truncate the sequence to max_seq_len\n",
        "        text = self.texts[idx]\n",
        "        if len(text) < self.max_seq_len:\n",
        "            text = text + [pad_idx] * (self.max_seq_len - len(text))\n",
        "        else:\n",
        "            text = text[:self.max_seq_len]\n",
        "        label = self.labels[idx]\n",
        "        return torch.tensor(text, dtype=torch.long), torch.tensor(label, dtype=torch.long)\n",
        "\n",
        "train_dataset_lstm = NewsDataset(train_texts_idx, train_labels, max_seq_len)\n",
        "test_dataset_lstm = NewsDataset(test_texts_idx, test_labels, max_seq_len)\n",
        "\n",
        "train_loader_lstm = DataLoader(train_dataset_lstm, batch_size=64, shuffle=True)\n",
        "test_loader_lstm = DataLoader(test_dataset_lstm, batch_size=64, shuffle=False)\n"
      ]
    },
    {
      "cell_type": "markdown",
      "metadata": {
        "id": "FcN1kIJ-KW_F"
      },
      "source": [
        "## 8.4 - Define the LSTM Model"
      ]
    },
    {
      "cell_type": "code",
      "execution_count": 47,
      "metadata": {
        "id": "Isg89KdBKY9O"
      },
      "outputs": [],
      "source": [
        "class LSTMClassifier(nn.Module):\n",
        "    def __init__(self, vocab_size, embed_size, hidden_size, num_classes, max_seq_len):\n",
        "        super(LSTMClassifier, self).__init__()\n",
        "        self.embedding = nn.Embedding(vocab_size, embed_size, padding_idx=pad_idx)\n",
        "        self.lstm = nn.LSTM(embed_size, hidden_size, batch_first=True)\n",
        "        self.fc = nn.Linear(hidden_size, num_classes)\n",
        "        self.max_seq_len = max_seq_len\n",
        "\n",
        "    def forward(self, x):\n",
        "        # x: [batch_size, seq_len]\n",
        "        embedded = self.embedding(x)  # [B, seq_len, embed_size]\n",
        "        lstm_out, (hn, cn) = self.lstm(embedded)\n",
        "        # Use the last hidden state for classification\n",
        "        out = self.fc(hn[-1])\n",
        "        return out\n",
        "\n",
        "# Hyperparameters for LSTM model\n",
        "lstm_embed_size = 100\n",
        "lstm_hidden_size = 128\n",
        "num_classes = 4\n",
        "\n",
        "lstm_model = LSTMClassifier(vocab_size, lstm_embed_size, lstm_hidden_size, num_classes, max_seq_len)\n"
      ]
    },
    {
      "cell_type": "markdown",
      "metadata": {
        "id": "2bCiAZpTKfQm"
      },
      "source": [
        "## 8.5 - Training and Evaluation Functions"
      ]
    },
    {
      "cell_type": "code",
      "execution_count": 48,
      "metadata": {
        "id": "KPZvVoXTKfzP"
      },
      "outputs": [],
      "source": [
        "optimizer_lstm = optim.Adam(lstm_model.parameters(), lr=0.001)\n",
        "criterion = nn.CrossEntropyLoss()\n",
        "\n",
        "from tqdm import tqdm\n",
        "\n",
        "def train_lstm(model, train_loader, optimizer, criterion):\n",
        "    model.train()\n",
        "    total_loss = 0\n",
        "    correct_preds = 0\n",
        "    total_preds = 0\n",
        "    loop = tqdm(train_loader, desc='Training LSTM', leave=False)\n",
        "    for texts, labels in loop:\n",
        "        optimizer.zero_grad()\n",
        "        outputs = model(texts)\n",
        "        loss = criterion(outputs, labels)\n",
        "        loss.backward()\n",
        "        optimizer.step()\n",
        "        total_loss += loss.item()\n",
        "        _, preds = torch.max(outputs, dim=1)\n",
        "        correct_preds += (preds == labels).sum().item()\n",
        "        total_preds += labels.size(0)\n",
        "        loop.set_postfix(loss=loss.item(), acc=100 * correct_preds / total_preds)\n",
        "    avg_loss = total_loss / len(train_loader)\n",
        "    accuracy = correct_preds / total_preds\n",
        "    return avg_loss, accuracy\n",
        "\n",
        "def evaluate_lstm(model, test_loader):\n",
        "    model.eval()\n",
        "    total_loss = 0\n",
        "    correct_preds = 0\n",
        "    total_preds = 0\n",
        "    with torch.no_grad():\n",
        "        for texts, labels in test_loader:\n",
        "            outputs = model(texts)\n",
        "            loss = criterion(outputs, labels)\n",
        "            total_loss += loss.item()\n",
        "            _, preds = torch.max(outputs, dim=1)\n",
        "            correct_preds += (preds == labels).sum().item()\n",
        "            total_preds += labels.size(0)\n",
        "    avg_loss = total_loss / len(test_loader)\n",
        "    accuracy = correct_preds / total_preds\n",
        "    return avg_loss, accuracy\n"
      ]
    },
    {
      "cell_type": "markdown",
      "metadata": {
        "id": "A8pg4ByiKiE5"
      },
      "source": [
        "## 8.6 - Train the LSTM Model"
      ]
    },
    {
      "cell_type": "code",
      "execution_count": 49,
      "metadata": {
        "colab": {
          "base_uri": "https://localhost:8080/",
          "height": 495
        },
        "id": "-cdeEiL3KkDY",
        "outputId": "d9c60628-9cb6-468b-a586-1f648bebe57a"
      },
      "outputs": [
        {
          "name": "stderr",
          "output_type": "stream",
          "text": []
        },
        {
          "name": "stdout",
          "output_type": "stream",
          "text": [
            "Epoch 1/10\n",
            "Training Loss: 1.3866, Training Accuracy: 0.2501\n",
            "Validation Loss: 1.3859, Validation Accuracy: 0.2512\n"
          ]
        },
        {
          "name": "stderr",
          "output_type": "stream",
          "text": []
        },
        {
          "name": "stdout",
          "output_type": "stream",
          "text": [
            "Epoch 2/10\n",
            "Training Loss: 1.3855, Training Accuracy: 0.2522\n",
            "Validation Loss: 1.3860, Validation Accuracy: 0.2512\n"
          ]
        },
        {
          "name": "stderr",
          "output_type": "stream",
          "text": []
        },
        {
          "ename": "KeyboardInterrupt",
          "evalue": "",
          "output_type": "error",
          "traceback": [
            "\u001b[0;31m---------------------------------------------------------------------------\u001b[0m",
            "\u001b[0;31mKeyboardInterrupt\u001b[0m                         Traceback (most recent call last)",
            "\u001b[0;32m<ipython-input-49-6ede120fdfd2>\u001b[0m in \u001b[0;36m<cell line: 0>\u001b[0;34m()\u001b[0m\n\u001b[1;32m      2\u001b[0m \u001b[0;34m\u001b[0m\u001b[0m\n\u001b[1;32m      3\u001b[0m \u001b[0;32mfor\u001b[0m \u001b[0mepoch\u001b[0m \u001b[0;32min\u001b[0m \u001b[0mrange\u001b[0m\u001b[0;34m(\u001b[0m\u001b[0mnum_epochs_lstm\u001b[0m\u001b[0;34m)\u001b[0m\u001b[0;34m:\u001b[0m\u001b[0;34m\u001b[0m\u001b[0;34m\u001b[0m\u001b[0m\n\u001b[0;32m----> 4\u001b[0;31m     \u001b[0mtrain_loss\u001b[0m\u001b[0;34m,\u001b[0m \u001b[0mtrain_acc\u001b[0m \u001b[0;34m=\u001b[0m \u001b[0mtrain_lstm\u001b[0m\u001b[0;34m(\u001b[0m\u001b[0mlstm_model\u001b[0m\u001b[0;34m,\u001b[0m \u001b[0mtrain_loader_lstm\u001b[0m\u001b[0;34m,\u001b[0m \u001b[0moptimizer_lstm\u001b[0m\u001b[0;34m,\u001b[0m \u001b[0mcriterion\u001b[0m\u001b[0;34m)\u001b[0m\u001b[0;34m\u001b[0m\u001b[0;34m\u001b[0m\u001b[0m\n\u001b[0m\u001b[1;32m      5\u001b[0m     \u001b[0mval_loss\u001b[0m\u001b[0;34m,\u001b[0m \u001b[0mval_acc\u001b[0m \u001b[0;34m=\u001b[0m \u001b[0mevaluate_lstm\u001b[0m\u001b[0;34m(\u001b[0m\u001b[0mlstm_model\u001b[0m\u001b[0;34m,\u001b[0m \u001b[0mtest_loader_lstm\u001b[0m\u001b[0;34m)\u001b[0m\u001b[0;34m\u001b[0m\u001b[0;34m\u001b[0m\u001b[0m\n\u001b[1;32m      6\u001b[0m \u001b[0;34m\u001b[0m\u001b[0m\n",
            "\u001b[0;32m<ipython-input-48-f133b9344c05>\u001b[0m in \u001b[0;36mtrain_lstm\u001b[0;34m(model, train_loader, optimizer, criterion)\u001b[0m\n\u001b[1;32m     14\u001b[0m         \u001b[0moutputs\u001b[0m \u001b[0;34m=\u001b[0m \u001b[0mmodel\u001b[0m\u001b[0;34m(\u001b[0m\u001b[0mtexts\u001b[0m\u001b[0;34m)\u001b[0m\u001b[0;34m\u001b[0m\u001b[0;34m\u001b[0m\u001b[0m\n\u001b[1;32m     15\u001b[0m         \u001b[0mloss\u001b[0m \u001b[0;34m=\u001b[0m \u001b[0mcriterion\u001b[0m\u001b[0;34m(\u001b[0m\u001b[0moutputs\u001b[0m\u001b[0;34m,\u001b[0m \u001b[0mlabels\u001b[0m\u001b[0;34m)\u001b[0m\u001b[0;34m\u001b[0m\u001b[0;34m\u001b[0m\u001b[0m\n\u001b[0;32m---> 16\u001b[0;31m         \u001b[0mloss\u001b[0m\u001b[0;34m.\u001b[0m\u001b[0mbackward\u001b[0m\u001b[0;34m(\u001b[0m\u001b[0;34m)\u001b[0m\u001b[0;34m\u001b[0m\u001b[0;34m\u001b[0m\u001b[0m\n\u001b[0m\u001b[1;32m     17\u001b[0m         \u001b[0moptimizer\u001b[0m\u001b[0;34m.\u001b[0m\u001b[0mstep\u001b[0m\u001b[0;34m(\u001b[0m\u001b[0;34m)\u001b[0m\u001b[0;34m\u001b[0m\u001b[0;34m\u001b[0m\u001b[0m\n\u001b[1;32m     18\u001b[0m         \u001b[0mtotal_loss\u001b[0m \u001b[0;34m+=\u001b[0m \u001b[0mloss\u001b[0m\u001b[0;34m.\u001b[0m\u001b[0mitem\u001b[0m\u001b[0;34m(\u001b[0m\u001b[0;34m)\u001b[0m\u001b[0;34m\u001b[0m\u001b[0;34m\u001b[0m\u001b[0m\n",
            "\u001b[0;32m/usr/local/lib/python3.11/dist-packages/torch/_tensor.py\u001b[0m in \u001b[0;36mbackward\u001b[0;34m(self, gradient, retain_graph, create_graph, inputs)\u001b[0m\n\u001b[1;32m    624\u001b[0m                 \u001b[0minputs\u001b[0m\u001b[0;34m=\u001b[0m\u001b[0minputs\u001b[0m\u001b[0;34m,\u001b[0m\u001b[0;34m\u001b[0m\u001b[0;34m\u001b[0m\u001b[0m\n\u001b[1;32m    625\u001b[0m             )\n\u001b[0;32m--> 626\u001b[0;31m         torch.autograd.backward(\n\u001b[0m\u001b[1;32m    627\u001b[0m             \u001b[0mself\u001b[0m\u001b[0;34m,\u001b[0m \u001b[0mgradient\u001b[0m\u001b[0;34m,\u001b[0m \u001b[0mretain_graph\u001b[0m\u001b[0;34m,\u001b[0m \u001b[0mcreate_graph\u001b[0m\u001b[0;34m,\u001b[0m \u001b[0minputs\u001b[0m\u001b[0;34m=\u001b[0m\u001b[0minputs\u001b[0m\u001b[0;34m\u001b[0m\u001b[0;34m\u001b[0m\u001b[0m\n\u001b[1;32m    628\u001b[0m         )\n",
            "\u001b[0;32m/usr/local/lib/python3.11/dist-packages/torch/autograd/__init__.py\u001b[0m in \u001b[0;36mbackward\u001b[0;34m(tensors, grad_tensors, retain_graph, create_graph, grad_variables, inputs)\u001b[0m\n\u001b[1;32m    345\u001b[0m     \u001b[0;31m# some Python versions print out the first line of a multi-line function\u001b[0m\u001b[0;34m\u001b[0m\u001b[0;34m\u001b[0m\u001b[0m\n\u001b[1;32m    346\u001b[0m     \u001b[0;31m# calls in the traceback and some print out the last line\u001b[0m\u001b[0;34m\u001b[0m\u001b[0;34m\u001b[0m\u001b[0m\n\u001b[0;32m--> 347\u001b[0;31m     _engine_run_backward(\n\u001b[0m\u001b[1;32m    348\u001b[0m         \u001b[0mtensors\u001b[0m\u001b[0;34m,\u001b[0m\u001b[0;34m\u001b[0m\u001b[0;34m\u001b[0m\u001b[0m\n\u001b[1;32m    349\u001b[0m         \u001b[0mgrad_tensors_\u001b[0m\u001b[0;34m,\u001b[0m\u001b[0;34m\u001b[0m\u001b[0;34m\u001b[0m\u001b[0m\n",
            "\u001b[0;32m/usr/local/lib/python3.11/dist-packages/torch/autograd/graph.py\u001b[0m in \u001b[0;36m_engine_run_backward\u001b[0;34m(t_outputs, *args, **kwargs)\u001b[0m\n\u001b[1;32m    821\u001b[0m         \u001b[0munregister_hooks\u001b[0m \u001b[0;34m=\u001b[0m \u001b[0m_register_logging_hooks_on_whole_graph\u001b[0m\u001b[0;34m(\u001b[0m\u001b[0mt_outputs\u001b[0m\u001b[0;34m)\u001b[0m\u001b[0;34m\u001b[0m\u001b[0;34m\u001b[0m\u001b[0m\n\u001b[1;32m    822\u001b[0m     \u001b[0;32mtry\u001b[0m\u001b[0;34m:\u001b[0m\u001b[0;34m\u001b[0m\u001b[0;34m\u001b[0m\u001b[0m\n\u001b[0;32m--> 823\u001b[0;31m         return Variable._execution_engine.run_backward(  # Calls into the C++ engine to run the backward pass\n\u001b[0m\u001b[1;32m    824\u001b[0m             \u001b[0mt_outputs\u001b[0m\u001b[0;34m,\u001b[0m \u001b[0;34m*\u001b[0m\u001b[0margs\u001b[0m\u001b[0;34m,\u001b[0m \u001b[0;34m**\u001b[0m\u001b[0mkwargs\u001b[0m\u001b[0;34m\u001b[0m\u001b[0;34m\u001b[0m\u001b[0m\n\u001b[1;32m    825\u001b[0m         )  # Calls into the C++ engine to run the backward pass\n",
            "\u001b[0;31mKeyboardInterrupt\u001b[0m: "
          ]
        }
      ],
      "source": [
        "num_epochs_lstm = 10\n",
        "\n",
        "for epoch in range(num_epochs_lstm):\n",
        "    train_loss, train_acc = train_lstm(lstm_model, train_loader_lstm, optimizer_lstm, criterion)\n",
        "    val_loss, val_acc = evaluate_lstm(lstm_model, test_loader_lstm)\n",
        "\n",
        "    print(f\"Epoch {epoch+1}/{num_epochs_lstm}\")\n",
        "    print(f\"Training Loss: {train_loss:.4f}, Training Accuracy: {train_acc:.4f}\")\n",
        "    print(f\"Validation Loss: {val_loss:.4f}, Validation Accuracy: {val_acc:.4f}\")\n",
        "\n",
        "final_val_loss, final_val_acc = evaluate_lstm(lstm_model, test_loader_lstm)\n",
        "print(f\"\\nFinal Test Accuracy (LSTM): {final_val_acc:.4f}\")\n",
        "\n",
        "# Classification report and confusion matrix for LSTM predictions\n",
        "lstm_model.eval()\n",
        "test_preds_lstm = []\n",
        "test_labels_list = []\n",
        "with torch.no_grad():\n",
        "    for texts, labels in test_loader_lstm:\n",
        "        outputs = lstm_model(texts)\n",
        "        _, preds = torch.max(outputs, dim=1)\n",
        "        test_preds_lstm.extend(preds.cpu().numpy())\n",
        "        test_labels_list.extend(labels.cpu().numpy())\n",
        "\n",
        "print(\"LSTM Classification Report:\")\n",
        "print(classification_report(test_labels_list, test_preds_lstm))\n",
        "print(\"LSTM Confusion Matrix:\")\n",
        "print(confusion_matrix(test_labels_list, test_preds_lstm))\n"
      ]
    },
    {
      "cell_type": "markdown",
      "metadata": {
        "id": "5diqpp5YMO92"
      },
      "source": [
        "#Manual Headline Prediction\n",
        "Enter a news headline manually and see the predictions from:\n",
        "1. Baseline Logistic Regression (using CountVectorizer features)\n",
        "2. Neural Network Classifier (using our custom tokenization and padding)\n",
        "\n",
        "The output includes the predicted text label and the confidence (as a percentage).\n",
        "\n"
      ]
    },
    {
      "cell_type": "code",
      "execution_count": null,
      "metadata": {
        "id": "K9RmVVK0MO93"
      },
      "outputs": [],
      "source": [
        "# Define label mapping\n",
        "label_mapping = {0: \"World\", 1: \"Sports\", 2: \"Business\", 3: \"Sci/Tech\"}\n",
        "\n",
        "# Input: Manually enter a headline\n",
        "headline = \"Local sports team wins championship in a stunning upset\"\n",
        "print(f\"Headline: {headline}\\n\")\n",
        "\n",
        "\n",
        "# -------------------------------------------------------------------------------------------------------\n",
        "\n",
        "# ---- Baseline Prediction using Logistic Regression ----\n",
        "# Vectorize the headline using the previously fitted CountVectorizer\n",
        "X_input = vectorizer.transform([headline])\n",
        "\n",
        "# Get probability estimates\n",
        "probs_baseline = lr_reg.predict_proba(X_input)[0]\n",
        "\n",
        "# Determine the predicted label and confidence\n",
        "pred_label_baseline = lr_reg.predict(X_input)[0]\n",
        "confidence_baseline = np.max(probs_baseline) * 100\n",
        "\n",
        "print(\"Baseline Logistic Regression:\")\n",
        "print(f\" Predicted Label: {pred_label_baseline}: {label_mapping[pred_label_baseline]}\")\n",
        "print(f\" Confidence: {confidence_baseline:.2f}%\")\n",
        "print()\n",
        "\n",
        "# -------------------------------------------------------------------------------------------------------\n",
        "\n",
        "# ---- Neural Network Prediction ----\n",
        "# Tokenize the headline using our custom function\n",
        "indices = tokenize_text(headline)\n",
        "# Pad or truncate the sequence to max_seq_len\n",
        "if len(indices) < max_seq_len:\n",
        "    indices = indices + [pad_idx] * (max_seq_len - len(indices))\n",
        "else:\n",
        "    indices = indices[:max_seq_len]\n",
        "# Convert to a torch tensor and add batch dimension\n",
        "input_tensor = torch.tensor([indices], dtype=torch.long)\n",
        "\n",
        "# Predict with the neural network\n",
        "model_nn.eval()\n",
        "with torch.no_grad():\n",
        "    logits = model_nn(input_tensor)\n",
        "    # Apply softmax to obtain probability distribution\n",
        "    probs_nn = F.softmax(logits, dim=1)[0]\n",
        "    pred_label_nn = torch.argmax(probs_nn).item()\n",
        "    confidence_nn = probs_nn[pred_label_nn].item() * 100\n",
        "\n",
        "print(\"Neural Network Classifier:\")\n",
        "print(f\" Predicted Label: {pred_label_nn}: {label_mapping[pred_label_nn]}\")\n",
        "print(f\" Confidence: {confidence_nn:.2f}%\")\n"
      ]
    },
    {
      "cell_type": "markdown",
      "metadata": {},
      "source": [
        "# Test"
      ]
    },
    {
      "cell_type": "markdown",
      "metadata": {},
      "source": [
        "# Test 2 "
      ]
    },
    {
      "cell_type": "markdown",
      "metadata": {},
      "source": []
    }
  ],
  "metadata": {
    "accelerator": "TPU",
    "colab": {
      "collapsed_sections": [
        "5diqpp5YMO92"
      ],
      "gpuType": "V28",
      "include_colab_link": true,
      "provenance": [],
      "toc_visible": true
    },
    "kernelspec": {
      "display_name": "Python 3",
      "name": "python3"
    },
    "language_info": {
      "name": "python"
    },
    "widgets": {
      "application/vnd.jupyter.widget-state+json": {
        "02d59d71297d4f088443d66c0ef33316": {
          "model_module": "@jupyter-widgets/controls",
          "model_module_version": "1.5.0",
          "model_name": "HBoxModel",
          "state": {
            "_dom_classes": [],
            "_model_module": "@jupyter-widgets/controls",
            "_model_module_version": "1.5.0",
            "_model_name": "HBoxModel",
            "_view_count": null,
            "_view_module": "@jupyter-widgets/controls",
            "_view_module_version": "1.5.0",
            "_view_name": "HBoxView",
            "box_style": "",
            "children": [
              "IPY_MODEL_a3783344baea41578a8c38d5ed69bf5b",
              "IPY_MODEL_44020f9d135c47388539084b5fb7a52e",
              "IPY_MODEL_7c5cd5c860b245fb9150ff43345a4a0d"
            ],
            "layout": "IPY_MODEL_aa1937ebccc74625a3050003a8c6d4e0"
          }
        },
        "0663dc9506804f5aa8aa296386df27b7": {
          "model_module": "@jupyter-widgets/controls",
          "model_module_version": "1.5.0",
          "model_name": "HTMLModel",
          "state": {
            "_dom_classes": [],
            "_model_module": "@jupyter-widgets/controls",
            "_model_module_version": "1.5.0",
            "_model_name": "HTMLModel",
            "_view_count": null,
            "_view_module": "@jupyter-widgets/controls",
            "_view_module_version": "1.5.0",
            "_view_name": "HTMLView",
            "description": "",
            "description_tooltip": null,
            "layout": "IPY_MODEL_66096d3638ff4518b1fa52029e85d38a",
            "placeholder": "​",
            "style": "IPY_MODEL_a879d937e79e46358a82b3567a7af820",
            "value": " 120000/120000 [00:00&lt;00:00, 405324.30 examples/s]"
          }
        },
        "0e8c28337a7146f280ec42a8994931ba": {
          "model_module": "@jupyter-widgets/controls",
          "model_module_version": "1.5.0",
          "model_name": "FloatProgressModel",
          "state": {
            "_dom_classes": [],
            "_model_module": "@jupyter-widgets/controls",
            "_model_module_version": "1.5.0",
            "_model_name": "FloatProgressModel",
            "_view_count": null,
            "_view_module": "@jupyter-widgets/controls",
            "_view_module_version": "1.5.0",
            "_view_name": "ProgressView",
            "bar_style": "success",
            "description": "",
            "description_tooltip": null,
            "layout": "IPY_MODEL_1588444f33f24786905108212d3659b2",
            "max": 120000,
            "min": 0,
            "orientation": "horizontal",
            "style": "IPY_MODEL_98ec2955864b40cdaae17eff48edc050",
            "value": 120000
          }
        },
        "1450785ff5f74ed4ba1de3fc15cf85e5": {
          "model_module": "@jupyter-widgets/controls",
          "model_module_version": "1.5.0",
          "model_name": "FloatProgressModel",
          "state": {
            "_dom_classes": [],
            "_model_module": "@jupyter-widgets/controls",
            "_model_module_version": "1.5.0",
            "_model_name": "FloatProgressModel",
            "_view_count": null,
            "_view_module": "@jupyter-widgets/controls",
            "_view_module_version": "1.5.0",
            "_view_name": "ProgressView",
            "bar_style": "success",
            "description": "",
            "description_tooltip": null,
            "layout": "IPY_MODEL_27d7fbc04bd9400292ba4fdc59dadf5f",
            "max": 7600,
            "min": 0,
            "orientation": "horizontal",
            "style": "IPY_MODEL_e064dc547e494f3b9decf1187b99d96b",
            "value": 7600
          }
        },
        "1588444f33f24786905108212d3659b2": {
          "model_module": "@jupyter-widgets/base",
          "model_module_version": "1.2.0",
          "model_name": "LayoutModel",
          "state": {
            "_model_module": "@jupyter-widgets/base",
            "_model_module_version": "1.2.0",
            "_model_name": "LayoutModel",
            "_view_count": null,
            "_view_module": "@jupyter-widgets/base",
            "_view_module_version": "1.2.0",
            "_view_name": "LayoutView",
            "align_content": null,
            "align_items": null,
            "align_self": null,
            "border": null,
            "bottom": null,
            "display": null,
            "flex": null,
            "flex_flow": null,
            "grid_area": null,
            "grid_auto_columns": null,
            "grid_auto_flow": null,
            "grid_auto_rows": null,
            "grid_column": null,
            "grid_gap": null,
            "grid_row": null,
            "grid_template_areas": null,
            "grid_template_columns": null,
            "grid_template_rows": null,
            "height": null,
            "justify_content": null,
            "justify_items": null,
            "left": null,
            "margin": null,
            "max_height": null,
            "max_width": null,
            "min_height": null,
            "min_width": null,
            "object_fit": null,
            "object_position": null,
            "order": null,
            "overflow": null,
            "overflow_x": null,
            "overflow_y": null,
            "padding": null,
            "right": null,
            "top": null,
            "visibility": null,
            "width": null
          }
        },
        "1c80424a2412466a9d74639cdd1134c9": {
          "model_module": "@jupyter-widgets/controls",
          "model_module_version": "1.5.0",
          "model_name": "DescriptionStyleModel",
          "state": {
            "_model_module": "@jupyter-widgets/controls",
            "_model_module_version": "1.5.0",
            "_model_name": "DescriptionStyleModel",
            "_view_count": null,
            "_view_module": "@jupyter-widgets/base",
            "_view_module_version": "1.2.0",
            "_view_name": "StyleView",
            "description_width": ""
          }
        },
        "1dd871d5082949f3ac88f4f673a27682": {
          "model_module": "@jupyter-widgets/base",
          "model_module_version": "1.2.0",
          "model_name": "LayoutModel",
          "state": {
            "_model_module": "@jupyter-widgets/base",
            "_model_module_version": "1.2.0",
            "_model_name": "LayoutModel",
            "_view_count": null,
            "_view_module": "@jupyter-widgets/base",
            "_view_module_version": "1.2.0",
            "_view_name": "LayoutView",
            "align_content": null,
            "align_items": null,
            "align_self": null,
            "border": null,
            "bottom": null,
            "display": null,
            "flex": null,
            "flex_flow": null,
            "grid_area": null,
            "grid_auto_columns": null,
            "grid_auto_flow": null,
            "grid_auto_rows": null,
            "grid_column": null,
            "grid_gap": null,
            "grid_row": null,
            "grid_template_areas": null,
            "grid_template_columns": null,
            "grid_template_rows": null,
            "height": null,
            "justify_content": null,
            "justify_items": null,
            "left": null,
            "margin": null,
            "max_height": null,
            "max_width": null,
            "min_height": null,
            "min_width": null,
            "object_fit": null,
            "object_position": null,
            "order": null,
            "overflow": null,
            "overflow_x": null,
            "overflow_y": null,
            "padding": null,
            "right": null,
            "top": null,
            "visibility": null,
            "width": null
          }
        },
        "2225ef16a4a14b0191eb0601f3a82004": {
          "model_module": "@jupyter-widgets/controls",
          "model_module_version": "1.5.0",
          "model_name": "HTMLModel",
          "state": {
            "_dom_classes": [],
            "_model_module": "@jupyter-widgets/controls",
            "_model_module_version": "1.5.0",
            "_model_name": "HTMLModel",
            "_view_count": null,
            "_view_module": "@jupyter-widgets/controls",
            "_view_module_version": "1.5.0",
            "_view_name": "HTMLView",
            "description": "",
            "description_tooltip": null,
            "layout": "IPY_MODEL_6b837eaca2194c75858e180b06af2bf7",
            "placeholder": "​",
            "style": "IPY_MODEL_a3ff16aa947948589ba633cc8ff06ffc",
            "value": "train-00000-of-00001.parquet: 100%"
          }
        },
        "27d7fbc04bd9400292ba4fdc59dadf5f": {
          "model_module": "@jupyter-widgets/base",
          "model_module_version": "1.2.0",
          "model_name": "LayoutModel",
          "state": {
            "_model_module": "@jupyter-widgets/base",
            "_model_module_version": "1.2.0",
            "_model_name": "LayoutModel",
            "_view_count": null,
            "_view_module": "@jupyter-widgets/base",
            "_view_module_version": "1.2.0",
            "_view_name": "LayoutView",
            "align_content": null,
            "align_items": null,
            "align_self": null,
            "border": null,
            "bottom": null,
            "display": null,
            "flex": null,
            "flex_flow": null,
            "grid_area": null,
            "grid_auto_columns": null,
            "grid_auto_flow": null,
            "grid_auto_rows": null,
            "grid_column": null,
            "grid_gap": null,
            "grid_row": null,
            "grid_template_areas": null,
            "grid_template_columns": null,
            "grid_template_rows": null,
            "height": null,
            "justify_content": null,
            "justify_items": null,
            "left": null,
            "margin": null,
            "max_height": null,
            "max_width": null,
            "min_height": null,
            "min_width": null,
            "object_fit": null,
            "object_position": null,
            "order": null,
            "overflow": null,
            "overflow_x": null,
            "overflow_y": null,
            "padding": null,
            "right": null,
            "top": null,
            "visibility": null,
            "width": null
          }
        },
        "2d0e8dbe3e2242d3bb2247eb9ebf7071": {
          "model_module": "@jupyter-widgets/controls",
          "model_module_version": "1.5.0",
          "model_name": "HTMLModel",
          "state": {
            "_dom_classes": [],
            "_model_module": "@jupyter-widgets/controls",
            "_model_module_version": "1.5.0",
            "_model_name": "HTMLModel",
            "_view_count": null,
            "_view_module": "@jupyter-widgets/controls",
            "_view_module_version": "1.5.0",
            "_view_name": "HTMLView",
            "description": "",
            "description_tooltip": null,
            "layout": "IPY_MODEL_3ea8365b02ea43d2b492330cff50120b",
            "placeholder": "​",
            "style": "IPY_MODEL_1c80424a2412466a9d74639cdd1134c9",
            "value": " 18.6M/18.6M [00:00&lt;00:00, 67.7MB/s]"
          }
        },
        "37229360ddec46fb95f2ead82f1847be": {
          "model_module": "@jupyter-widgets/controls",
          "model_module_version": "1.5.0",
          "model_name": "FloatProgressModel",
          "state": {
            "_dom_classes": [],
            "_model_module": "@jupyter-widgets/controls",
            "_model_module_version": "1.5.0",
            "_model_name": "FloatProgressModel",
            "_view_count": null,
            "_view_module": "@jupyter-widgets/controls",
            "_view_module_version": "1.5.0",
            "_view_name": "ProgressView",
            "bar_style": "success",
            "description": "",
            "description_tooltip": null,
            "layout": "IPY_MODEL_516b02a91e344da7badd2d97c9783ec8",
            "max": 8070,
            "min": 0,
            "orientation": "horizontal",
            "style": "IPY_MODEL_910bba600faf4050b3bf21e0dacf794d",
            "value": 8070
          }
        },
        "3ea8365b02ea43d2b492330cff50120b": {
          "model_module": "@jupyter-widgets/base",
          "model_module_version": "1.2.0",
          "model_name": "LayoutModel",
          "state": {
            "_model_module": "@jupyter-widgets/base",
            "_model_module_version": "1.2.0",
            "_model_name": "LayoutModel",
            "_view_count": null,
            "_view_module": "@jupyter-widgets/base",
            "_view_module_version": "1.2.0",
            "_view_name": "LayoutView",
            "align_content": null,
            "align_items": null,
            "align_self": null,
            "border": null,
            "bottom": null,
            "display": null,
            "flex": null,
            "flex_flow": null,
            "grid_area": null,
            "grid_auto_columns": null,
            "grid_auto_flow": null,
            "grid_auto_rows": null,
            "grid_column": null,
            "grid_gap": null,
            "grid_row": null,
            "grid_template_areas": null,
            "grid_template_columns": null,
            "grid_template_rows": null,
            "height": null,
            "justify_content": null,
            "justify_items": null,
            "left": null,
            "margin": null,
            "max_height": null,
            "max_width": null,
            "min_height": null,
            "min_width": null,
            "object_fit": null,
            "object_position": null,
            "order": null,
            "overflow": null,
            "overflow_x": null,
            "overflow_y": null,
            "padding": null,
            "right": null,
            "top": null,
            "visibility": null,
            "width": null
          }
        },
        "44020f9d135c47388539084b5fb7a52e": {
          "model_module": "@jupyter-widgets/controls",
          "model_module_version": "1.5.0",
          "model_name": "FloatProgressModel",
          "state": {
            "_dom_classes": [],
            "_model_module": "@jupyter-widgets/controls",
            "_model_module_version": "1.5.0",
            "_model_name": "FloatProgressModel",
            "_view_count": null,
            "_view_module": "@jupyter-widgets/controls",
            "_view_module_version": "1.5.0",
            "_view_name": "ProgressView",
            "bar_style": "success",
            "description": "",
            "description_tooltip": null,
            "layout": "IPY_MODEL_d174e11ba73f48789c684f1710e689b3",
            "max": 1234829,
            "min": 0,
            "orientation": "horizontal",
            "style": "IPY_MODEL_7cd38082258747148fb47c83291d70a4",
            "value": 1234829
          }
        },
        "4b6b737b7f674a91975e79d3168e8f22": {
          "model_module": "@jupyter-widgets/base",
          "model_module_version": "1.2.0",
          "model_name": "LayoutModel",
          "state": {
            "_model_module": "@jupyter-widgets/base",
            "_model_module_version": "1.2.0",
            "_model_name": "LayoutModel",
            "_view_count": null,
            "_view_module": "@jupyter-widgets/base",
            "_view_module_version": "1.2.0",
            "_view_name": "LayoutView",
            "align_content": null,
            "align_items": null,
            "align_self": null,
            "border": null,
            "bottom": null,
            "display": null,
            "flex": null,
            "flex_flow": null,
            "grid_area": null,
            "grid_auto_columns": null,
            "grid_auto_flow": null,
            "grid_auto_rows": null,
            "grid_column": null,
            "grid_gap": null,
            "grid_row": null,
            "grid_template_areas": null,
            "grid_template_columns": null,
            "grid_template_rows": null,
            "height": null,
            "justify_content": null,
            "justify_items": null,
            "left": null,
            "margin": null,
            "max_height": null,
            "max_width": null,
            "min_height": null,
            "min_width": null,
            "object_fit": null,
            "object_position": null,
            "order": null,
            "overflow": null,
            "overflow_x": null,
            "overflow_y": null,
            "padding": null,
            "right": null,
            "top": null,
            "visibility": null,
            "width": null
          }
        },
        "516b02a91e344da7badd2d97c9783ec8": {
          "model_module": "@jupyter-widgets/base",
          "model_module_version": "1.2.0",
          "model_name": "LayoutModel",
          "state": {
            "_model_module": "@jupyter-widgets/base",
            "_model_module_version": "1.2.0",
            "_model_name": "LayoutModel",
            "_view_count": null,
            "_view_module": "@jupyter-widgets/base",
            "_view_module_version": "1.2.0",
            "_view_name": "LayoutView",
            "align_content": null,
            "align_items": null,
            "align_self": null,
            "border": null,
            "bottom": null,
            "display": null,
            "flex": null,
            "flex_flow": null,
            "grid_area": null,
            "grid_auto_columns": null,
            "grid_auto_flow": null,
            "grid_auto_rows": null,
            "grid_column": null,
            "grid_gap": null,
            "grid_row": null,
            "grid_template_areas": null,
            "grid_template_columns": null,
            "grid_template_rows": null,
            "height": null,
            "justify_content": null,
            "justify_items": null,
            "left": null,
            "margin": null,
            "max_height": null,
            "max_width": null,
            "min_height": null,
            "min_width": null,
            "object_fit": null,
            "object_position": null,
            "order": null,
            "overflow": null,
            "overflow_x": null,
            "overflow_y": null,
            "padding": null,
            "right": null,
            "top": null,
            "visibility": null,
            "width": null
          }
        },
        "5bde9be56f784631a05df0b899ca7016": {
          "model_module": "@jupyter-widgets/base",
          "model_module_version": "1.2.0",
          "model_name": "LayoutModel",
          "state": {
            "_model_module": "@jupyter-widgets/base",
            "_model_module_version": "1.2.0",
            "_model_name": "LayoutModel",
            "_view_count": null,
            "_view_module": "@jupyter-widgets/base",
            "_view_module_version": "1.2.0",
            "_view_name": "LayoutView",
            "align_content": null,
            "align_items": null,
            "align_self": null,
            "border": null,
            "bottom": null,
            "display": null,
            "flex": null,
            "flex_flow": null,
            "grid_area": null,
            "grid_auto_columns": null,
            "grid_auto_flow": null,
            "grid_auto_rows": null,
            "grid_column": null,
            "grid_gap": null,
            "grid_row": null,
            "grid_template_areas": null,
            "grid_template_columns": null,
            "grid_template_rows": null,
            "height": null,
            "justify_content": null,
            "justify_items": null,
            "left": null,
            "margin": null,
            "max_height": null,
            "max_width": null,
            "min_height": null,
            "min_width": null,
            "object_fit": null,
            "object_position": null,
            "order": null,
            "overflow": null,
            "overflow_x": null,
            "overflow_y": null,
            "padding": null,
            "right": null,
            "top": null,
            "visibility": null,
            "width": null
          }
        },
        "5cfae512d0614bf89e73dfe6f1be01d8": {
          "model_module": "@jupyter-widgets/controls",
          "model_module_version": "1.5.0",
          "model_name": "HTMLModel",
          "state": {
            "_dom_classes": [],
            "_model_module": "@jupyter-widgets/controls",
            "_model_module_version": "1.5.0",
            "_model_name": "HTMLModel",
            "_view_count": null,
            "_view_module": "@jupyter-widgets/controls",
            "_view_module_version": "1.5.0",
            "_view_name": "HTMLView",
            "description": "",
            "description_tooltip": null,
            "layout": "IPY_MODEL_cd0736bb1e8341598a35b93c05b8c787",
            "placeholder": "​",
            "style": "IPY_MODEL_a49fab5e2cb74b45802c70123348848f",
            "value": "README.md: 100%"
          }
        },
        "66096d3638ff4518b1fa52029e85d38a": {
          "model_module": "@jupyter-widgets/base",
          "model_module_version": "1.2.0",
          "model_name": "LayoutModel",
          "state": {
            "_model_module": "@jupyter-widgets/base",
            "_model_module_version": "1.2.0",
            "_model_name": "LayoutModel",
            "_view_count": null,
            "_view_module": "@jupyter-widgets/base",
            "_view_module_version": "1.2.0",
            "_view_name": "LayoutView",
            "align_content": null,
            "align_items": null,
            "align_self": null,
            "border": null,
            "bottom": null,
            "display": null,
            "flex": null,
            "flex_flow": null,
            "grid_area": null,
            "grid_auto_columns": null,
            "grid_auto_flow": null,
            "grid_auto_rows": null,
            "grid_column": null,
            "grid_gap": null,
            "grid_row": null,
            "grid_template_areas": null,
            "grid_template_columns": null,
            "grid_template_rows": null,
            "height": null,
            "justify_content": null,
            "justify_items": null,
            "left": null,
            "margin": null,
            "max_height": null,
            "max_width": null,
            "min_height": null,
            "min_width": null,
            "object_fit": null,
            "object_position": null,
            "order": null,
            "overflow": null,
            "overflow_x": null,
            "overflow_y": null,
            "padding": null,
            "right": null,
            "top": null,
            "visibility": null,
            "width": null
          }
        },
        "67d46ad7a3ab4ea3b1106c6c0a2a8276": {
          "model_module": "@jupyter-widgets/base",
          "model_module_version": "1.2.0",
          "model_name": "LayoutModel",
          "state": {
            "_model_module": "@jupyter-widgets/base",
            "_model_module_version": "1.2.0",
            "_model_name": "LayoutModel",
            "_view_count": null,
            "_view_module": "@jupyter-widgets/base",
            "_view_module_version": "1.2.0",
            "_view_name": "LayoutView",
            "align_content": null,
            "align_items": null,
            "align_self": null,
            "border": null,
            "bottom": null,
            "display": null,
            "flex": null,
            "flex_flow": null,
            "grid_area": null,
            "grid_auto_columns": null,
            "grid_auto_flow": null,
            "grid_auto_rows": null,
            "grid_column": null,
            "grid_gap": null,
            "grid_row": null,
            "grid_template_areas": null,
            "grid_template_columns": null,
            "grid_template_rows": null,
            "height": null,
            "justify_content": null,
            "justify_items": null,
            "left": null,
            "margin": null,
            "max_height": null,
            "max_width": null,
            "min_height": null,
            "min_width": null,
            "object_fit": null,
            "object_position": null,
            "order": null,
            "overflow": null,
            "overflow_x": null,
            "overflow_y": null,
            "padding": null,
            "right": null,
            "top": null,
            "visibility": null,
            "width": null
          }
        },
        "6b837eaca2194c75858e180b06af2bf7": {
          "model_module": "@jupyter-widgets/base",
          "model_module_version": "1.2.0",
          "model_name": "LayoutModel",
          "state": {
            "_model_module": "@jupyter-widgets/base",
            "_model_module_version": "1.2.0",
            "_model_name": "LayoutModel",
            "_view_count": null,
            "_view_module": "@jupyter-widgets/base",
            "_view_module_version": "1.2.0",
            "_view_name": "LayoutView",
            "align_content": null,
            "align_items": null,
            "align_self": null,
            "border": null,
            "bottom": null,
            "display": null,
            "flex": null,
            "flex_flow": null,
            "grid_area": null,
            "grid_auto_columns": null,
            "grid_auto_flow": null,
            "grid_auto_rows": null,
            "grid_column": null,
            "grid_gap": null,
            "grid_row": null,
            "grid_template_areas": null,
            "grid_template_columns": null,
            "grid_template_rows": null,
            "height": null,
            "justify_content": null,
            "justify_items": null,
            "left": null,
            "margin": null,
            "max_height": null,
            "max_width": null,
            "min_height": null,
            "min_width": null,
            "object_fit": null,
            "object_position": null,
            "order": null,
            "overflow": null,
            "overflow_x": null,
            "overflow_y": null,
            "padding": null,
            "right": null,
            "top": null,
            "visibility": null,
            "width": null
          }
        },
        "7c5cd5c860b245fb9150ff43345a4a0d": {
          "model_module": "@jupyter-widgets/controls",
          "model_module_version": "1.5.0",
          "model_name": "HTMLModel",
          "state": {
            "_dom_classes": [],
            "_model_module": "@jupyter-widgets/controls",
            "_model_module_version": "1.5.0",
            "_model_name": "HTMLModel",
            "_view_count": null,
            "_view_module": "@jupyter-widgets/controls",
            "_view_module_version": "1.5.0",
            "_view_name": "HTMLView",
            "description": "",
            "description_tooltip": null,
            "layout": "IPY_MODEL_afa8e4d56bb44927a06275bab5dd5a4d",
            "placeholder": "​",
            "style": "IPY_MODEL_eee29f6832de43a1a284310dc8e6732b",
            "value": " 1.23M/1.23M [00:00&lt;00:00, 55.3MB/s]"
          }
        },
        "7cd38082258747148fb47c83291d70a4": {
          "model_module": "@jupyter-widgets/controls",
          "model_module_version": "1.5.0",
          "model_name": "ProgressStyleModel",
          "state": {
            "_model_module": "@jupyter-widgets/controls",
            "_model_module_version": "1.5.0",
            "_model_name": "ProgressStyleModel",
            "_view_count": null,
            "_view_module": "@jupyter-widgets/base",
            "_view_module_version": "1.2.0",
            "_view_name": "StyleView",
            "bar_color": null,
            "description_width": ""
          }
        },
        "905c7fffc32940228bd0d7c0e7c59d10": {
          "model_module": "@jupyter-widgets/base",
          "model_module_version": "1.2.0",
          "model_name": "LayoutModel",
          "state": {
            "_model_module": "@jupyter-widgets/base",
            "_model_module_version": "1.2.0",
            "_model_name": "LayoutModel",
            "_view_count": null,
            "_view_module": "@jupyter-widgets/base",
            "_view_module_version": "1.2.0",
            "_view_name": "LayoutView",
            "align_content": null,
            "align_items": null,
            "align_self": null,
            "border": null,
            "bottom": null,
            "display": null,
            "flex": null,
            "flex_flow": null,
            "grid_area": null,
            "grid_auto_columns": null,
            "grid_auto_flow": null,
            "grid_auto_rows": null,
            "grid_column": null,
            "grid_gap": null,
            "grid_row": null,
            "grid_template_areas": null,
            "grid_template_columns": null,
            "grid_template_rows": null,
            "height": null,
            "justify_content": null,
            "justify_items": null,
            "left": null,
            "margin": null,
            "max_height": null,
            "max_width": null,
            "min_height": null,
            "min_width": null,
            "object_fit": null,
            "object_position": null,
            "order": null,
            "overflow": null,
            "overflow_x": null,
            "overflow_y": null,
            "padding": null,
            "right": null,
            "top": null,
            "visibility": null,
            "width": null
          }
        },
        "905dbe1b40054cddaddbe1e4a8828fb8": {
          "model_module": "@jupyter-widgets/controls",
          "model_module_version": "1.5.0",
          "model_name": "HTMLModel",
          "state": {
            "_dom_classes": [],
            "_model_module": "@jupyter-widgets/controls",
            "_model_module_version": "1.5.0",
            "_model_name": "HTMLModel",
            "_view_count": null,
            "_view_module": "@jupyter-widgets/controls",
            "_view_module_version": "1.5.0",
            "_view_name": "HTMLView",
            "description": "",
            "description_tooltip": null,
            "layout": "IPY_MODEL_d3eccfc2d7fe4ecb97c67c2369014e1d",
            "placeholder": "​",
            "style": "IPY_MODEL_ecdc81bb1b334f65a761117942dbe954",
            "value": " 8.07k/8.07k [00:00&lt;00:00, 895kB/s]"
          }
        },
        "910bba600faf4050b3bf21e0dacf794d": {
          "model_module": "@jupyter-widgets/controls",
          "model_module_version": "1.5.0",
          "model_name": "ProgressStyleModel",
          "state": {
            "_model_module": "@jupyter-widgets/controls",
            "_model_module_version": "1.5.0",
            "_model_name": "ProgressStyleModel",
            "_view_count": null,
            "_view_module": "@jupyter-widgets/base",
            "_view_module_version": "1.2.0",
            "_view_name": "StyleView",
            "bar_color": null,
            "description_width": ""
          }
        },
        "923b5ac9c7704933b67629f338efd4cd": {
          "model_module": "@jupyter-widgets/controls",
          "model_module_version": "1.5.0",
          "model_name": "DescriptionStyleModel",
          "state": {
            "_model_module": "@jupyter-widgets/controls",
            "_model_module_version": "1.5.0",
            "_model_name": "DescriptionStyleModel",
            "_view_count": null,
            "_view_module": "@jupyter-widgets/base",
            "_view_module_version": "1.2.0",
            "_view_name": "StyleView",
            "description_width": ""
          }
        },
        "9737cfdb06364516b18178102c1923ab": {
          "model_module": "@jupyter-widgets/controls",
          "model_module_version": "1.5.0",
          "model_name": "HBoxModel",
          "state": {
            "_dom_classes": [],
            "_model_module": "@jupyter-widgets/controls",
            "_model_module_version": "1.5.0",
            "_model_name": "HBoxModel",
            "_view_count": null,
            "_view_module": "@jupyter-widgets/controls",
            "_view_module_version": "1.5.0",
            "_view_name": "HBoxView",
            "box_style": "",
            "children": [
              "IPY_MODEL_2225ef16a4a14b0191eb0601f3a82004",
              "IPY_MODEL_f9a5f08a51c144ea89701d38e88eaff6",
              "IPY_MODEL_2d0e8dbe3e2242d3bb2247eb9ebf7071"
            ],
            "layout": "IPY_MODEL_f9a46a8130e8403ea73490d24f956e56"
          }
        },
        "98186e118d8b4571ad425c97e12f4a85": {
          "model_module": "@jupyter-widgets/controls",
          "model_module_version": "1.5.0",
          "model_name": "DescriptionStyleModel",
          "state": {
            "_model_module": "@jupyter-widgets/controls",
            "_model_module_version": "1.5.0",
            "_model_name": "DescriptionStyleModel",
            "_view_count": null,
            "_view_module": "@jupyter-widgets/base",
            "_view_module_version": "1.2.0",
            "_view_name": "StyleView",
            "description_width": ""
          }
        },
        "982814bcaa4245edad37a09049694dfe": {
          "model_module": "@jupyter-widgets/base",
          "model_module_version": "1.2.0",
          "model_name": "LayoutModel",
          "state": {
            "_model_module": "@jupyter-widgets/base",
            "_model_module_version": "1.2.0",
            "_model_name": "LayoutModel",
            "_view_count": null,
            "_view_module": "@jupyter-widgets/base",
            "_view_module_version": "1.2.0",
            "_view_name": "LayoutView",
            "align_content": null,
            "align_items": null,
            "align_self": null,
            "border": null,
            "bottom": null,
            "display": null,
            "flex": null,
            "flex_flow": null,
            "grid_area": null,
            "grid_auto_columns": null,
            "grid_auto_flow": null,
            "grid_auto_rows": null,
            "grid_column": null,
            "grid_gap": null,
            "grid_row": null,
            "grid_template_areas": null,
            "grid_template_columns": null,
            "grid_template_rows": null,
            "height": null,
            "justify_content": null,
            "justify_items": null,
            "left": null,
            "margin": null,
            "max_height": null,
            "max_width": null,
            "min_height": null,
            "min_width": null,
            "object_fit": null,
            "object_position": null,
            "order": null,
            "overflow": null,
            "overflow_x": null,
            "overflow_y": null,
            "padding": null,
            "right": null,
            "top": null,
            "visibility": null,
            "width": null
          }
        },
        "98ec2955864b40cdaae17eff48edc050": {
          "model_module": "@jupyter-widgets/controls",
          "model_module_version": "1.5.0",
          "model_name": "ProgressStyleModel",
          "state": {
            "_model_module": "@jupyter-widgets/controls",
            "_model_module_version": "1.5.0",
            "_model_name": "ProgressStyleModel",
            "_view_count": null,
            "_view_module": "@jupyter-widgets/base",
            "_view_module_version": "1.2.0",
            "_view_name": "StyleView",
            "bar_color": null,
            "description_width": ""
          }
        },
        "a3783344baea41578a8c38d5ed69bf5b": {
          "model_module": "@jupyter-widgets/controls",
          "model_module_version": "1.5.0",
          "model_name": "HTMLModel",
          "state": {
            "_dom_classes": [],
            "_model_module": "@jupyter-widgets/controls",
            "_model_module_version": "1.5.0",
            "_model_name": "HTMLModel",
            "_view_count": null,
            "_view_module": "@jupyter-widgets/controls",
            "_view_module_version": "1.5.0",
            "_view_name": "HTMLView",
            "description": "",
            "description_tooltip": null,
            "layout": "IPY_MODEL_982814bcaa4245edad37a09049694dfe",
            "placeholder": "​",
            "style": "IPY_MODEL_ba1b8781f0f64e159d73df1a701f2e76",
            "value": "test-00000-of-00001.parquet: 100%"
          }
        },
        "a3ff16aa947948589ba633cc8ff06ffc": {
          "model_module": "@jupyter-widgets/controls",
          "model_module_version": "1.5.0",
          "model_name": "DescriptionStyleModel",
          "state": {
            "_model_module": "@jupyter-widgets/controls",
            "_model_module_version": "1.5.0",
            "_model_name": "DescriptionStyleModel",
            "_view_count": null,
            "_view_module": "@jupyter-widgets/base",
            "_view_module_version": "1.2.0",
            "_view_name": "StyleView",
            "description_width": ""
          }
        },
        "a49fab5e2cb74b45802c70123348848f": {
          "model_module": "@jupyter-widgets/controls",
          "model_module_version": "1.5.0",
          "model_name": "DescriptionStyleModel",
          "state": {
            "_model_module": "@jupyter-widgets/controls",
            "_model_module_version": "1.5.0",
            "_model_name": "DescriptionStyleModel",
            "_view_count": null,
            "_view_module": "@jupyter-widgets/base",
            "_view_module_version": "1.2.0",
            "_view_name": "StyleView",
            "description_width": ""
          }
        },
        "a879d937e79e46358a82b3567a7af820": {
          "model_module": "@jupyter-widgets/controls",
          "model_module_version": "1.5.0",
          "model_name": "DescriptionStyleModel",
          "state": {
            "_model_module": "@jupyter-widgets/controls",
            "_model_module_version": "1.5.0",
            "_model_name": "DescriptionStyleModel",
            "_view_count": null,
            "_view_module": "@jupyter-widgets/base",
            "_view_module_version": "1.2.0",
            "_view_name": "StyleView",
            "description_width": ""
          }
        },
        "aa1937ebccc74625a3050003a8c6d4e0": {
          "model_module": "@jupyter-widgets/base",
          "model_module_version": "1.2.0",
          "model_name": "LayoutModel",
          "state": {
            "_model_module": "@jupyter-widgets/base",
            "_model_module_version": "1.2.0",
            "_model_name": "LayoutModel",
            "_view_count": null,
            "_view_module": "@jupyter-widgets/base",
            "_view_module_version": "1.2.0",
            "_view_name": "LayoutView",
            "align_content": null,
            "align_items": null,
            "align_self": null,
            "border": null,
            "bottom": null,
            "display": null,
            "flex": null,
            "flex_flow": null,
            "grid_area": null,
            "grid_auto_columns": null,
            "grid_auto_flow": null,
            "grid_auto_rows": null,
            "grid_column": null,
            "grid_gap": null,
            "grid_row": null,
            "grid_template_areas": null,
            "grid_template_columns": null,
            "grid_template_rows": null,
            "height": null,
            "justify_content": null,
            "justify_items": null,
            "left": null,
            "margin": null,
            "max_height": null,
            "max_width": null,
            "min_height": null,
            "min_width": null,
            "object_fit": null,
            "object_position": null,
            "order": null,
            "overflow": null,
            "overflow_x": null,
            "overflow_y": null,
            "padding": null,
            "right": null,
            "top": null,
            "visibility": null,
            "width": null
          }
        },
        "addefd73034d48e383db0f1b06d0e52d": {
          "model_module": "@jupyter-widgets/controls",
          "model_module_version": "1.5.0",
          "model_name": "ProgressStyleModel",
          "state": {
            "_model_module": "@jupyter-widgets/controls",
            "_model_module_version": "1.5.0",
            "_model_name": "ProgressStyleModel",
            "_view_count": null,
            "_view_module": "@jupyter-widgets/base",
            "_view_module_version": "1.2.0",
            "_view_name": "StyleView",
            "bar_color": null,
            "description_width": ""
          }
        },
        "afa8e4d56bb44927a06275bab5dd5a4d": {
          "model_module": "@jupyter-widgets/base",
          "model_module_version": "1.2.0",
          "model_name": "LayoutModel",
          "state": {
            "_model_module": "@jupyter-widgets/base",
            "_model_module_version": "1.2.0",
            "_model_name": "LayoutModel",
            "_view_count": null,
            "_view_module": "@jupyter-widgets/base",
            "_view_module_version": "1.2.0",
            "_view_name": "LayoutView",
            "align_content": null,
            "align_items": null,
            "align_self": null,
            "border": null,
            "bottom": null,
            "display": null,
            "flex": null,
            "flex_flow": null,
            "grid_area": null,
            "grid_auto_columns": null,
            "grid_auto_flow": null,
            "grid_auto_rows": null,
            "grid_column": null,
            "grid_gap": null,
            "grid_row": null,
            "grid_template_areas": null,
            "grid_template_columns": null,
            "grid_template_rows": null,
            "height": null,
            "justify_content": null,
            "justify_items": null,
            "left": null,
            "margin": null,
            "max_height": null,
            "max_width": null,
            "min_height": null,
            "min_width": null,
            "object_fit": null,
            "object_position": null,
            "order": null,
            "overflow": null,
            "overflow_x": null,
            "overflow_y": null,
            "padding": null,
            "right": null,
            "top": null,
            "visibility": null,
            "width": null
          }
        },
        "b13b5f3b69504ad8902f767049f37a23": {
          "model_module": "@jupyter-widgets/base",
          "model_module_version": "1.2.0",
          "model_name": "LayoutModel",
          "state": {
            "_model_module": "@jupyter-widgets/base",
            "_model_module_version": "1.2.0",
            "_model_name": "LayoutModel",
            "_view_count": null,
            "_view_module": "@jupyter-widgets/base",
            "_view_module_version": "1.2.0",
            "_view_name": "LayoutView",
            "align_content": null,
            "align_items": null,
            "align_self": null,
            "border": null,
            "bottom": null,
            "display": null,
            "flex": null,
            "flex_flow": null,
            "grid_area": null,
            "grid_auto_columns": null,
            "grid_auto_flow": null,
            "grid_auto_rows": null,
            "grid_column": null,
            "grid_gap": null,
            "grid_row": null,
            "grid_template_areas": null,
            "grid_template_columns": null,
            "grid_template_rows": null,
            "height": null,
            "justify_content": null,
            "justify_items": null,
            "left": null,
            "margin": null,
            "max_height": null,
            "max_width": null,
            "min_height": null,
            "min_width": null,
            "object_fit": null,
            "object_position": null,
            "order": null,
            "overflow": null,
            "overflow_x": null,
            "overflow_y": null,
            "padding": null,
            "right": null,
            "top": null,
            "visibility": null,
            "width": null
          }
        },
        "b8954d44cc7e4a4e96f98b128eedde80": {
          "model_module": "@jupyter-widgets/base",
          "model_module_version": "1.2.0",
          "model_name": "LayoutModel",
          "state": {
            "_model_module": "@jupyter-widgets/base",
            "_model_module_version": "1.2.0",
            "_model_name": "LayoutModel",
            "_view_count": null,
            "_view_module": "@jupyter-widgets/base",
            "_view_module_version": "1.2.0",
            "_view_name": "LayoutView",
            "align_content": null,
            "align_items": null,
            "align_self": null,
            "border": null,
            "bottom": null,
            "display": null,
            "flex": null,
            "flex_flow": null,
            "grid_area": null,
            "grid_auto_columns": null,
            "grid_auto_flow": null,
            "grid_auto_rows": null,
            "grid_column": null,
            "grid_gap": null,
            "grid_row": null,
            "grid_template_areas": null,
            "grid_template_columns": null,
            "grid_template_rows": null,
            "height": null,
            "justify_content": null,
            "justify_items": null,
            "left": null,
            "margin": null,
            "max_height": null,
            "max_width": null,
            "min_height": null,
            "min_width": null,
            "object_fit": null,
            "object_position": null,
            "order": null,
            "overflow": null,
            "overflow_x": null,
            "overflow_y": null,
            "padding": null,
            "right": null,
            "top": null,
            "visibility": null,
            "width": null
          }
        },
        "ba1b8781f0f64e159d73df1a701f2e76": {
          "model_module": "@jupyter-widgets/controls",
          "model_module_version": "1.5.0",
          "model_name": "DescriptionStyleModel",
          "state": {
            "_model_module": "@jupyter-widgets/controls",
            "_model_module_version": "1.5.0",
            "_model_name": "DescriptionStyleModel",
            "_view_count": null,
            "_view_module": "@jupyter-widgets/base",
            "_view_module_version": "1.2.0",
            "_view_name": "StyleView",
            "description_width": ""
          }
        },
        "bc999799a6e94a569b88d321a60c9dfb": {
          "model_module": "@jupyter-widgets/controls",
          "model_module_version": "1.5.0",
          "model_name": "HBoxModel",
          "state": {
            "_dom_classes": [],
            "_model_module": "@jupyter-widgets/controls",
            "_model_module_version": "1.5.0",
            "_model_name": "HBoxModel",
            "_view_count": null,
            "_view_module": "@jupyter-widgets/controls",
            "_view_module_version": "1.5.0",
            "_view_name": "HBoxView",
            "box_style": "",
            "children": [
              "IPY_MODEL_5cfae512d0614bf89e73dfe6f1be01d8",
              "IPY_MODEL_37229360ddec46fb95f2ead82f1847be",
              "IPY_MODEL_905dbe1b40054cddaddbe1e4a8828fb8"
            ],
            "layout": "IPY_MODEL_b13b5f3b69504ad8902f767049f37a23"
          }
        },
        "cbb614aa296e4311b450241138592c97": {
          "model_module": "@jupyter-widgets/controls",
          "model_module_version": "1.5.0",
          "model_name": "HTMLModel",
          "state": {
            "_dom_classes": [],
            "_model_module": "@jupyter-widgets/controls",
            "_model_module_version": "1.5.0",
            "_model_name": "HTMLModel",
            "_view_count": null,
            "_view_module": "@jupyter-widgets/controls",
            "_view_module_version": "1.5.0",
            "_view_name": "HTMLView",
            "description": "",
            "description_tooltip": null,
            "layout": "IPY_MODEL_4b6b737b7f674a91975e79d3168e8f22",
            "placeholder": "​",
            "style": "IPY_MODEL_923b5ac9c7704933b67629f338efd4cd",
            "value": "Generating train split: 100%"
          }
        },
        "cd0736bb1e8341598a35b93c05b8c787": {
          "model_module": "@jupyter-widgets/base",
          "model_module_version": "1.2.0",
          "model_name": "LayoutModel",
          "state": {
            "_model_module": "@jupyter-widgets/base",
            "_model_module_version": "1.2.0",
            "_model_name": "LayoutModel",
            "_view_count": null,
            "_view_module": "@jupyter-widgets/base",
            "_view_module_version": "1.2.0",
            "_view_name": "LayoutView",
            "align_content": null,
            "align_items": null,
            "align_self": null,
            "border": null,
            "bottom": null,
            "display": null,
            "flex": null,
            "flex_flow": null,
            "grid_area": null,
            "grid_auto_columns": null,
            "grid_auto_flow": null,
            "grid_auto_rows": null,
            "grid_column": null,
            "grid_gap": null,
            "grid_row": null,
            "grid_template_areas": null,
            "grid_template_columns": null,
            "grid_template_rows": null,
            "height": null,
            "justify_content": null,
            "justify_items": null,
            "left": null,
            "margin": null,
            "max_height": null,
            "max_width": null,
            "min_height": null,
            "min_width": null,
            "object_fit": null,
            "object_position": null,
            "order": null,
            "overflow": null,
            "overflow_x": null,
            "overflow_y": null,
            "padding": null,
            "right": null,
            "top": null,
            "visibility": null,
            "width": null
          }
        },
        "d174e11ba73f48789c684f1710e689b3": {
          "model_module": "@jupyter-widgets/base",
          "model_module_version": "1.2.0",
          "model_name": "LayoutModel",
          "state": {
            "_model_module": "@jupyter-widgets/base",
            "_model_module_version": "1.2.0",
            "_model_name": "LayoutModel",
            "_view_count": null,
            "_view_module": "@jupyter-widgets/base",
            "_view_module_version": "1.2.0",
            "_view_name": "LayoutView",
            "align_content": null,
            "align_items": null,
            "align_self": null,
            "border": null,
            "bottom": null,
            "display": null,
            "flex": null,
            "flex_flow": null,
            "grid_area": null,
            "grid_auto_columns": null,
            "grid_auto_flow": null,
            "grid_auto_rows": null,
            "grid_column": null,
            "grid_gap": null,
            "grid_row": null,
            "grid_template_areas": null,
            "grid_template_columns": null,
            "grid_template_rows": null,
            "height": null,
            "justify_content": null,
            "justify_items": null,
            "left": null,
            "margin": null,
            "max_height": null,
            "max_width": null,
            "min_height": null,
            "min_width": null,
            "object_fit": null,
            "object_position": null,
            "order": null,
            "overflow": null,
            "overflow_x": null,
            "overflow_y": null,
            "padding": null,
            "right": null,
            "top": null,
            "visibility": null,
            "width": null
          }
        },
        "d3eccfc2d7fe4ecb97c67c2369014e1d": {
          "model_module": "@jupyter-widgets/base",
          "model_module_version": "1.2.0",
          "model_name": "LayoutModel",
          "state": {
            "_model_module": "@jupyter-widgets/base",
            "_model_module_version": "1.2.0",
            "_model_name": "LayoutModel",
            "_view_count": null,
            "_view_module": "@jupyter-widgets/base",
            "_view_module_version": "1.2.0",
            "_view_name": "LayoutView",
            "align_content": null,
            "align_items": null,
            "align_self": null,
            "border": null,
            "bottom": null,
            "display": null,
            "flex": null,
            "flex_flow": null,
            "grid_area": null,
            "grid_auto_columns": null,
            "grid_auto_flow": null,
            "grid_auto_rows": null,
            "grid_column": null,
            "grid_gap": null,
            "grid_row": null,
            "grid_template_areas": null,
            "grid_template_columns": null,
            "grid_template_rows": null,
            "height": null,
            "justify_content": null,
            "justify_items": null,
            "left": null,
            "margin": null,
            "max_height": null,
            "max_width": null,
            "min_height": null,
            "min_width": null,
            "object_fit": null,
            "object_position": null,
            "order": null,
            "overflow": null,
            "overflow_x": null,
            "overflow_y": null,
            "padding": null,
            "right": null,
            "top": null,
            "visibility": null,
            "width": null
          }
        },
        "d61a176cf89c466b9189a8f5c4311fe6": {
          "model_module": "@jupyter-widgets/controls",
          "model_module_version": "1.5.0",
          "model_name": "DescriptionStyleModel",
          "state": {
            "_model_module": "@jupyter-widgets/controls",
            "_model_module_version": "1.5.0",
            "_model_name": "DescriptionStyleModel",
            "_view_count": null,
            "_view_module": "@jupyter-widgets/base",
            "_view_module_version": "1.2.0",
            "_view_name": "StyleView",
            "description_width": ""
          }
        },
        "deb5286850aa4bb8a7ece2a81a9894e8": {
          "model_module": "@jupyter-widgets/controls",
          "model_module_version": "1.5.0",
          "model_name": "HTMLModel",
          "state": {
            "_dom_classes": [],
            "_model_module": "@jupyter-widgets/controls",
            "_model_module_version": "1.5.0",
            "_model_name": "HTMLModel",
            "_view_count": null,
            "_view_module": "@jupyter-widgets/controls",
            "_view_module_version": "1.5.0",
            "_view_name": "HTMLView",
            "description": "",
            "description_tooltip": null,
            "layout": "IPY_MODEL_67d46ad7a3ab4ea3b1106c6c0a2a8276",
            "placeholder": "​",
            "style": "IPY_MODEL_98186e118d8b4571ad425c97e12f4a85",
            "value": " 7600/7600 [00:00&lt;00:00, 211909.58 examples/s]"
          }
        },
        "e064dc547e494f3b9decf1187b99d96b": {
          "model_module": "@jupyter-widgets/controls",
          "model_module_version": "1.5.0",
          "model_name": "ProgressStyleModel",
          "state": {
            "_model_module": "@jupyter-widgets/controls",
            "_model_module_version": "1.5.0",
            "_model_name": "ProgressStyleModel",
            "_view_count": null,
            "_view_module": "@jupyter-widgets/base",
            "_view_module_version": "1.2.0",
            "_view_name": "StyleView",
            "bar_color": null,
            "description_width": ""
          }
        },
        "e902f54158e748fd90d8a008f60442a8": {
          "model_module": "@jupyter-widgets/controls",
          "model_module_version": "1.5.0",
          "model_name": "HBoxModel",
          "state": {
            "_dom_classes": [],
            "_model_module": "@jupyter-widgets/controls",
            "_model_module_version": "1.5.0",
            "_model_name": "HBoxModel",
            "_view_count": null,
            "_view_module": "@jupyter-widgets/controls",
            "_view_module_version": "1.5.0",
            "_view_name": "HBoxView",
            "box_style": "",
            "children": [
              "IPY_MODEL_f3b08a06263b49d7a7fa78de164a6906",
              "IPY_MODEL_1450785ff5f74ed4ba1de3fc15cf85e5",
              "IPY_MODEL_deb5286850aa4bb8a7ece2a81a9894e8"
            ],
            "layout": "IPY_MODEL_5bde9be56f784631a05df0b899ca7016"
          }
        },
        "ecdc81bb1b334f65a761117942dbe954": {
          "model_module": "@jupyter-widgets/controls",
          "model_module_version": "1.5.0",
          "model_name": "DescriptionStyleModel",
          "state": {
            "_model_module": "@jupyter-widgets/controls",
            "_model_module_version": "1.5.0",
            "_model_name": "DescriptionStyleModel",
            "_view_count": null,
            "_view_module": "@jupyter-widgets/base",
            "_view_module_version": "1.2.0",
            "_view_name": "StyleView",
            "description_width": ""
          }
        },
        "eee29f6832de43a1a284310dc8e6732b": {
          "model_module": "@jupyter-widgets/controls",
          "model_module_version": "1.5.0",
          "model_name": "DescriptionStyleModel",
          "state": {
            "_model_module": "@jupyter-widgets/controls",
            "_model_module_version": "1.5.0",
            "_model_name": "DescriptionStyleModel",
            "_view_count": null,
            "_view_module": "@jupyter-widgets/base",
            "_view_module_version": "1.2.0",
            "_view_name": "StyleView",
            "description_width": ""
          }
        },
        "f3b08a06263b49d7a7fa78de164a6906": {
          "model_module": "@jupyter-widgets/controls",
          "model_module_version": "1.5.0",
          "model_name": "HTMLModel",
          "state": {
            "_dom_classes": [],
            "_model_module": "@jupyter-widgets/controls",
            "_model_module_version": "1.5.0",
            "_model_name": "HTMLModel",
            "_view_count": null,
            "_view_module": "@jupyter-widgets/controls",
            "_view_module_version": "1.5.0",
            "_view_name": "HTMLView",
            "description": "",
            "description_tooltip": null,
            "layout": "IPY_MODEL_1dd871d5082949f3ac88f4f673a27682",
            "placeholder": "​",
            "style": "IPY_MODEL_d61a176cf89c466b9189a8f5c4311fe6",
            "value": "Generating test split: 100%"
          }
        },
        "f5516da0995c4cad9af91f46a3048056": {
          "model_module": "@jupyter-widgets/controls",
          "model_module_version": "1.5.0",
          "model_name": "HBoxModel",
          "state": {
            "_dom_classes": [],
            "_model_module": "@jupyter-widgets/controls",
            "_model_module_version": "1.5.0",
            "_model_name": "HBoxModel",
            "_view_count": null,
            "_view_module": "@jupyter-widgets/controls",
            "_view_module_version": "1.5.0",
            "_view_name": "HBoxView",
            "box_style": "",
            "children": [
              "IPY_MODEL_cbb614aa296e4311b450241138592c97",
              "IPY_MODEL_0e8c28337a7146f280ec42a8994931ba",
              "IPY_MODEL_0663dc9506804f5aa8aa296386df27b7"
            ],
            "layout": "IPY_MODEL_b8954d44cc7e4a4e96f98b128eedde80"
          }
        },
        "f9a46a8130e8403ea73490d24f956e56": {
          "model_module": "@jupyter-widgets/base",
          "model_module_version": "1.2.0",
          "model_name": "LayoutModel",
          "state": {
            "_model_module": "@jupyter-widgets/base",
            "_model_module_version": "1.2.0",
            "_model_name": "LayoutModel",
            "_view_count": null,
            "_view_module": "@jupyter-widgets/base",
            "_view_module_version": "1.2.0",
            "_view_name": "LayoutView",
            "align_content": null,
            "align_items": null,
            "align_self": null,
            "border": null,
            "bottom": null,
            "display": null,
            "flex": null,
            "flex_flow": null,
            "grid_area": null,
            "grid_auto_columns": null,
            "grid_auto_flow": null,
            "grid_auto_rows": null,
            "grid_column": null,
            "grid_gap": null,
            "grid_row": null,
            "grid_template_areas": null,
            "grid_template_columns": null,
            "grid_template_rows": null,
            "height": null,
            "justify_content": null,
            "justify_items": null,
            "left": null,
            "margin": null,
            "max_height": null,
            "max_width": null,
            "min_height": null,
            "min_width": null,
            "object_fit": null,
            "object_position": null,
            "order": null,
            "overflow": null,
            "overflow_x": null,
            "overflow_y": null,
            "padding": null,
            "right": null,
            "top": null,
            "visibility": null,
            "width": null
          }
        },
        "f9a5f08a51c144ea89701d38e88eaff6": {
          "model_module": "@jupyter-widgets/controls",
          "model_module_version": "1.5.0",
          "model_name": "FloatProgressModel",
          "state": {
            "_dom_classes": [],
            "_model_module": "@jupyter-widgets/controls",
            "_model_module_version": "1.5.0",
            "_model_name": "FloatProgressModel",
            "_view_count": null,
            "_view_module": "@jupyter-widgets/controls",
            "_view_module_version": "1.5.0",
            "_view_name": "ProgressView",
            "bar_style": "success",
            "description": "",
            "description_tooltip": null,
            "layout": "IPY_MODEL_905c7fffc32940228bd0d7c0e7c59d10",
            "max": 18585438,
            "min": 0,
            "orientation": "horizontal",
            "style": "IPY_MODEL_addefd73034d48e383db0f1b06d0e52d",
            "value": 18585438
          }
        }
      }
    }
  },
  "nbformat": 4,
  "nbformat_minor": 0
}
